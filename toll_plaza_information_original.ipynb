{
 "cells": [
  {
   "cell_type": "code",
   "execution_count": 1,
   "id": "a23ee307",
   "metadata": {},
   "outputs": [],
   "source": [
    "import pandas as pd\n",
    "from selenium import webdriver\n",
    "from selenium.webdriver.common.by import By\n",
    "from bs4 import BeautifulSoup\n",
    "import requests"
   ]
  },
  {
   "cell_type": "code",
   "execution_count": 2,
   "id": "04a2dc0a-4a87-4d71-869e-e751d32ce583",
   "metadata": {},
   "outputs": [],
   "source": [
    "pd.options.display.max_colwidth=500"
   ]
  },
  {
   "cell_type": "code",
   "execution_count": 3,
   "id": "a3a59ef7-38ea-457d-bf09-5c87c85c74df",
   "metadata": {},
   "outputs": [],
   "source": [
    "base_url=\"https://tis.nhai.gov.in/TollInformation.aspx?TollPlazaID=\""
   ]
  },
  {
   "cell_type": "code",
   "execution_count": 4,
   "id": "4fc65cf0-2ab3-42f5-adcb-28478be91975",
   "metadata": {},
   "outputs": [],
   "source": [
    "toll_plazas_df=pd.read_csv('tool_plazas.csv',encoding='cp1252')"
   ]
  },
  {
   "cell_type": "code",
   "execution_count": 5,
   "id": "3748cc9f-4a03-4d66-a322-ee1ccba6a153",
   "metadata": {},
   "outputs": [],
   "source": [
    "options = webdriver.ChromeOptions()\n",
    "options.add_argument(\"--headless\")  # Run in headless mode\n",
    "driver = webdriver.Chrome(options=options)\n",
    "driver.implicitly_wait(10)"
   ]
  },
  {
   "cell_type": "code",
   "execution_count": 6,
   "id": "db61244e-b9bc-4808-9f3f-edb7c31bdd2b",
   "metadata": {},
   "outputs": [
    {
     "data": {
      "text/html": [
       "<div>\n",
       "<style scoped>\n",
       "    .dataframe tbody tr th:only-of-type {\n",
       "        vertical-align: middle;\n",
       "    }\n",
       "\n",
       "    .dataframe tbody tr th {\n",
       "        vertical-align: top;\n",
       "    }\n",
       "\n",
       "    .dataframe thead th {\n",
       "        text-align: right;\n",
       "    }\n",
       "</style>\n",
       "<table border=\"1\" class=\"dataframe\">\n",
       "  <thead>\n",
       "    <tr style=\"text-align: right;\">\n",
       "      <th></th>\n",
       "      <th>Sr No.</th>\n",
       "      <th>State</th>\n",
       "      <th>NH-No.</th>\n",
       "      <th>Toll Plaza Name</th>\n",
       "      <th>Toll Plaza Location</th>\n",
       "      <th>Section / Stretch</th>\n",
       "      <th>TollPlazaID</th>\n",
       "      <th>latitude</th>\n",
       "      <th>longitude</th>\n",
       "      <th>place_id</th>\n",
       "      <th>address_partial_match</th>\n",
       "    </tr>\n",
       "  </thead>\n",
       "  <tbody>\n",
       "    <tr>\n",
       "      <th>0</th>\n",
       "      <td>1</td>\n",
       "      <td>Andhra Pradesh</td>\n",
       "      <td>16</td>\n",
       "      <td>Aganampudi</td>\n",
       "      <td>Km 728.055</td>\n",
       "      <td>Vishakhapatnam - Ankapalli [Km 2.837 to &amp;Km 395.870 to Km358.00(New Chainage From Km 700.544 to Km 740.255)]</td>\n",
       "      <td>236</td>\n",
       "      <td>17.685417</td>\n",
       "      <td>83.149951</td>\n",
       "      <td>ChIJyaj65ttuOToRH26fq-li1fY</td>\n",
       "      <td>False</td>\n",
       "    </tr>\n",
       "    <tr>\n",
       "      <th>1</th>\n",
       "      <td>2</td>\n",
       "      <td>Andhra Pradesh</td>\n",
       "      <td>7 (new 44)</td>\n",
       "      <td>Amakathadu</td>\n",
       "      <td>Km 250.700</td>\n",
       "      <td>Hyderabad Bangalore (km 211.000 to km 462.164)</td>\n",
       "      <td>258</td>\n",
       "      <td>15.486477</td>\n",
       "      <td>77.900943</td>\n",
       "      <td>ChIJG6ZfoqN_tjsR6hw94uU86QQ</td>\n",
       "      <td>False</td>\n",
       "    </tr>\n",
       "    <tr>\n",
       "      <th>2</th>\n",
       "      <td>3</td>\n",
       "      <td>Andhra Pradesh</td>\n",
       "      <td>NH-216</td>\n",
       "      <td>Annampalli</td>\n",
       "      <td>Annampalli</td>\n",
       "      <td>Gurajanapalli To pasarlapudi</td>\n",
       "      <td>5977</td>\n",
       "      <td>16.672228</td>\n",
       "      <td>82.147390</td>\n",
       "      <td>ChIJcw8uBaz1NzoRMva9Ii5taRE</td>\n",
       "      <td>False</td>\n",
       "    </tr>\n",
       "    <tr>\n",
       "      <th>3</th>\n",
       "      <td>4</td>\n",
       "      <td>Andhra Pradesh</td>\n",
       "      <td>221</td>\n",
       "      <td>Badava</td>\n",
       "      <td>35.8</td>\n",
       "      <td>Imbrahimpatnam to AP Telangana Border</td>\n",
       "      <td>4486</td>\n",
       "      <td>16.850475</td>\n",
       "      <td>80.633584</td>\n",
       "      <td>ChIJr0zTpNLaNToReLaGbihNfUU</td>\n",
       "      <td>False</td>\n",
       "    </tr>\n",
       "    <tr>\n",
       "      <th>4</th>\n",
       "      <td>5</td>\n",
       "      <td>Andhra Pradesh</td>\n",
       "      <td>NH40</td>\n",
       "      <td>Bandaplli</td>\n",
       "      <td>119.945 Bandaplli</td>\n",
       "      <td>Rayachoty Kadapa Section</td>\n",
       "      <td>5697</td>\n",
       "      <td>14.131199</td>\n",
       "      <td>78.756682</td>\n",
       "      <td>ChIJ2T3B-NwFszsRs_e_vnu63yw</td>\n",
       "      <td>True</td>\n",
       "    </tr>\n",
       "  </tbody>\n",
       "</table>\n",
       "</div>"
      ],
      "text/plain": [
       "   Sr No.           State      NH-No. Toll Plaza Name Toll Plaza Location  \\\n",
       "0       1  Andhra Pradesh          16      Aganampudi          Km 728.055   \n",
       "1       2  Andhra Pradesh  7 (new 44)      Amakathadu          Km 250.700   \n",
       "2       3  Andhra Pradesh      NH-216      Annampalli          Annampalli   \n",
       "3       4  Andhra Pradesh         221          Badava                35.8   \n",
       "4       5  Andhra Pradesh        NH40       Bandaplli   119.945 Bandaplli   \n",
       "\n",
       "                                                                                              Section / Stretch  \\\n",
       "0  Vishakhapatnam - Ankapalli [Km 2.837 to &Km 395.870 to Km358.00(New Chainage From Km 700.544 to Km 740.255)]   \n",
       "1                                                                Hyderabad Bangalore (km 211.000 to km 462.164)   \n",
       "2                                                                                  Gurajanapalli To pasarlapudi   \n",
       "3                                                                         Imbrahimpatnam to AP Telangana Border   \n",
       "4                                                                                      Rayachoty Kadapa Section   \n",
       "\n",
       "   TollPlazaID   latitude  longitude                     place_id  \\\n",
       "0          236  17.685417  83.149951  ChIJyaj65ttuOToRH26fq-li1fY   \n",
       "1          258  15.486477  77.900943  ChIJG6ZfoqN_tjsR6hw94uU86QQ   \n",
       "2         5977  16.672228  82.147390  ChIJcw8uBaz1NzoRMva9Ii5taRE   \n",
       "3         4486  16.850475  80.633584  ChIJr0zTpNLaNToReLaGbihNfUU   \n",
       "4         5697  14.131199  78.756682  ChIJ2T3B-NwFszsRs_e_vnu63yw   \n",
       "\n",
       "   address_partial_match  \n",
       "0                  False  \n",
       "1                  False  \n",
       "2                  False  \n",
       "3                  False  \n",
       "4                   True  "
      ]
     },
     "execution_count": 6,
     "metadata": {},
     "output_type": "execute_result"
    }
   ],
   "source": [
    "toll_plazas_df.head()"
   ]
  },
  {
   "cell_type": "code",
   "execution_count": 7,
   "id": "a9455c66-f3f9-489f-9841-0673473e9d79",
   "metadata": {},
   "outputs": [
    {
     "name": "stdout",
     "output_type": "stream",
     "text": [
      "<class 'pandas.core.frame.DataFrame'>\n",
      "RangeIndex: 1053 entries, 0 to 1052\n",
      "Data columns (total 11 columns):\n",
      " #   Column                 Non-Null Count  Dtype  \n",
      "---  ------                 --------------  -----  \n",
      " 0   Sr No.                 1053 non-null   int64  \n",
      " 1   State                  1053 non-null   object \n",
      " 2   NH-No.                 1053 non-null   object \n",
      " 3   Toll Plaza Name        1053 non-null   object \n",
      " 4   Toll Plaza Location    1053 non-null   object \n",
      " 5   Section / Stretch      1051 non-null   object \n",
      " 6   TollPlazaID            1053 non-null   int64  \n",
      " 7   latitude               1053 non-null   float64\n",
      " 8   longitude              1053 non-null   float64\n",
      " 9   place_id               1053 non-null   object \n",
      " 10  address_partial_match  1053 non-null   bool   \n",
      "dtypes: bool(1), float64(2), int64(2), object(6)\n",
      "memory usage: 83.4+ KB\n"
     ]
    }
   ],
   "source": [
    "toll_plazas_df.info()"
   ]
  },
  {
   "cell_type": "code",
   "execution_count": 8,
   "id": "881f747c-4ecd-48d3-9ba5-5aff7f720fff",
   "metadata": {},
   "outputs": [
    {
     "data": {
      "text/plain": [
       "1053"
      ]
     },
     "execution_count": 8,
     "metadata": {},
     "output_type": "execute_result"
    }
   ],
   "source": [
    "toll_plazas_df.shape[0]"
   ]
  },
  {
   "cell_type": "markdown",
   "id": "96630eee-2f0b-4ae2-b588-b81c15c430e2",
   "metadata": {},
   "source": [
    "# Below data needs to be collected for each of the toll plaza"
   ]
  },
  {
   "cell_type": "raw",
   "id": "477566ac-701c-4e8b-a69f-1a6f178946eb",
   "metadata": {},
   "source": [
    "1) Toll info\n",
    "    Stretch \n",
    "    Tollable Length\n",
    "    Fee Effective Date\n",
    "    Due date of toll revision\n",
    "2) Concessions\n",
    "3) Facilities available near Toll Plaza\n",
    "4) Announcement\n",
    "5) Important Information\n",
    "6) About toll construction\n",
    "7) Toll Fees for vehicles"
   ]
  },
  {
   "cell_type": "code",
   "execution_count": 9,
   "id": "5e5d699f-b2a5-49ec-afac-ed37ebed1ede",
   "metadata": {},
   "outputs": [],
   "source": [
    "# def launch_toll_info_page(toll_plaza_id):\n",
    "#     url = f\"{base_url}{toll_plaza_id}\"\n",
    "#     # print(url)\n",
    "#     return url\n",
    "#     # driver.get(url)\n",
    "    "
   ]
  },
  {
   "cell_type": "markdown",
   "id": "2afa2bdc-8da2-4c7f-ac5c-721084d7adda",
   "metadata": {},
   "source": [
    "### Construct all toll plaza urls"
   ]
  },
  {
   "cell_type": "markdown",
   "id": "acdd6886-18be-4b32-8bf4-3647fdf80cda",
   "metadata": {},
   "source": [
    "## 1) Toll info : Stretch,Tollable Length,Fee Effective Date,Due date of toll revision"
   ]
  },
  {
   "cell_type": "code",
   "execution_count": 10,
   "id": "0f918048-b129-452c-b535-38e552f228f2",
   "metadata": {},
   "outputs": [],
   "source": [
    "def get_toll_info(soup):\n",
    "    # print(\"Getting toll information \")\n",
    "    p_tags = [p.get_text(\" \", strip=True) for p in soup.find_all(\"p\")]\n",
    "    data = {\"Stretch\": [], \"Tollable Length\": [], \"Fee Effective Date\": [], \"Due Date of Toll Revision\": []}\n",
    "    # Extract required details\n",
    "    for text in p_tags:\n",
    "        if \"Stretch :\" in text:\n",
    "            data[\"Stretch\"].append(text.split(\"Stretch :\")[1].split(\"Tollable Length :\")[0].strip())\n",
    "        if \"Tollable Length :\" in text:\n",
    "            data[\"Tollable Length\"].append(text.split(\"Tollable Length :\")[1].strip())\n",
    "        if \"Fee Effective Date :\" in text:\n",
    "            parts = text.split(\"/\")\n",
    "            data[\"Fee Effective Date\"].append(parts[0].split(\"Fee Effective Date :\")[1].strip())\n",
    "            data[\"Due Date of Toll Revision\"].append(parts[1].split(\"Due date of toll revision :\")[1].strip())\n",
    "    add_info_df = pd.DataFrame(data)\n",
    "    return add_info_df  "
   ]
  },
  {
   "cell_type": "markdown",
   "id": "e8d863f5-546f-41d4-82f0-00c2deb5445e",
   "metadata": {},
   "source": [
    "## 2) Concessions"
   ]
  },
  {
   "cell_type": "code",
   "execution_count": 11,
   "id": "c789e5c0-6f07-4150-9cee-220d7733fc9d",
   "metadata": {},
   "outputs": [],
   "source": [
    "def get_concession_table1(soup):\n",
    "    # print(\"Getting Concessions table\")\n",
    "    concession_section = soup.find(\"h2\", string=\"Concessions\")\n",
    "    if concession_section:\n",
    "        concession_table = concession_section.find_next(\"span\")\n",
    "        # concession_data=concession_table.text\n",
    "        concession_data = {'Concessions':[concession_table.text]}\n",
    "    df_concession = pd.DataFrame(concession_data)\n",
    "    return df_concession"
   ]
  },
  {
   "cell_type": "code",
   "execution_count": 12,
   "id": "1bdd2e79-e979-43b8-8069-0f0f0cae5d19",
   "metadata": {},
   "outputs": [],
   "source": [
    "def get_concession_table(soup):\n",
    "    # print(\"Getting Concessions table\")\n",
    "    concession_section = soup.find(\"h2\", string=\"Concessions\")\n",
    "    if concession_section:\n",
    "        try:\n",
    "            concession_table = concession_section.find_next(\"span\")\n",
    "            # concession_data=concession_table.text\n",
    "            concession_data = {'Concessions':[concession_table.text]}\n",
    "            df_concession = pd.DataFrame(concession_data)\n",
    "        except:\n",
    "            concessions = []\n",
    "            concession_list = concession_section.find_next(\"ul\").find_all(\"li\")\n",
    "            for item in concession_list:\n",
    "                concessions.append(item.text.strip())\n",
    "            concessions=\".\".join(concessions)\n",
    "            df_concession = pd.DataFrame([concessions], columns=[\"Concessions\"])\n",
    "    return df_concession"
   ]
  },
  {
   "cell_type": "markdown",
   "id": "8234f837-d475-454b-b8a6-3d0cc6d9572f",
   "metadata": {},
   "source": [
    "## 3) Facilities available near Toll Plaza"
   ]
  },
  {
   "cell_type": "code",
   "execution_count": 13,
   "id": "9873e289-889c-42c9-8bc2-d2a3175d026f",
   "metadata": {},
   "outputs": [],
   "source": [
    "def get_facilities_near_toll(soup):\n",
    "    # print(\"Getting Facilities available near Toll Plaza\")\n",
    "    facilities_section = soup.find(\"h2\", string=\"Facilities available near Toll Plaza\")\n",
    "    facilities_data = []\n",
    "    if facilities_section:\n",
    "        facilities_table = facilities_section.find_next(\"div\").find_all(\"table\")\n",
    "        for table in facilities_table:\n",
    "            for row in table.find_all(\"tr\"):\n",
    "                cols = row.find_all(\"td\")\n",
    "                if len(cols) == 2:\n",
    "                    # key = cols[0].text.strip()\n",
    "                    key=cols[0].text.replace(\":\",\"\").strip()\n",
    "                    value = cols[1].text.strip()\n",
    "                    facilities_data.append((key, value))\n",
    "    df_facilities = pd.DataFrame(facilities_data, columns=[\"Facility\", \"Availability\"])\n",
    "    df_facilities=df_facilities.T\n",
    "    df_facilities.reset_index(drop=True, inplace=True)\n",
    "    df_facilities.columns = df_facilities.iloc[0] \n",
    "    df_facilities=df_facilities[1:].reset_index(drop=True)\n",
    "    return df_facilities"
   ]
  },
  {
   "cell_type": "markdown",
   "id": "43197b65-bcdd-4b41-81aa-7031ae3809ae",
   "metadata": {},
   "source": [
    "## 4) Announcement"
   ]
  },
  {
   "cell_type": "code",
   "execution_count": 14,
   "id": "d9076054-828f-4103-8d1c-ce8aaf633816",
   "metadata": {},
   "outputs": [],
   "source": [
    "def get_announcement_info(soup):\n",
    "    # print(\"Getting Announcement info\")\n",
    "    announcement_section = soup.find(\"h2\", string=\"Announcement\")\n",
    "    announcements = []\n",
    "    if announcement_section:\n",
    "        announcement_list = announcement_section.find_next(\"ul\").find_all(\"li\")\n",
    "        for item in announcement_list:\n",
    "            announcements.append(item.text.strip())\n",
    "    df_announcements = pd.DataFrame(announcements, columns=[\"Announcement\"])\n",
    "    return df_announcements"
   ]
  },
  {
   "cell_type": "markdown",
   "id": "8d7de441-bcf6-4be9-ae98-aca12fa803d3",
   "metadata": {},
   "source": [
    "## 5) Important Information"
   ]
  },
  {
   "cell_type": "code",
   "execution_count": 15,
   "id": "e76b0bf0-fc09-46e2-bc1c-20349a2b7ca3",
   "metadata": {},
   "outputs": [],
   "source": [
    "def get_important_info(soup):\n",
    "    # print(\"Getting Important Information table\")\n",
    "    important_info_section = soup.find(\"h2\", string=\"Important Information\")\n",
    "    important_info_data = []\n",
    "    if important_info_section:\n",
    "        info_table = important_info_section.find_next(\"table\")\n",
    "        for row in info_table.find_all(\"tr\"):\n",
    "            cols = row.find_all(\"td\")\n",
    "            if len(cols) == 2:\n",
    "                key=cols[0].text.replace(\":\",\"\").strip()\n",
    "                value = cols[1].text.strip()\n",
    "                important_info_data.append((key, value))\n",
    "    df_important_info = pd.DataFrame(important_info_data, columns=[\"Category\", \"Details\"])\n",
    "    df_important_info=df_important_info.T.reset_index(drop=True)\n",
    "    df_important_info.columns=df_important_info.iloc[0]\n",
    "    df_important_info=df_important_info.iloc[1:]\n",
    "    df_important_info.reset_index(drop=True,inplace=True)\n",
    "    return df_important_info"
   ]
  },
  {
   "cell_type": "markdown",
   "id": "ba40e503-f6e4-4abd-a24f-751507957895",
   "metadata": {},
   "source": [
    "## 6) About toll construction"
   ]
  },
  {
   "cell_type": "code",
   "execution_count": 16,
   "id": "7bd9013d-df01-422f-abd1-d335774e8d1d",
   "metadata": {},
   "outputs": [],
   "source": [
    "def get_toll_construction_info(table):\n",
    "    # print(\"Getting Project Information table\")\n",
    "    project_data = []\n",
    "    for row in table.find_all(\"tr\"):\n",
    "        cols = row.find_all(\"td\")\n",
    "        if len(cols) == 2:\n",
    "            key = cols[0].text.strip()\n",
    "            value = cols[1].text.strip()\n",
    "            project_data.append((key, value))\n",
    "    df_project_info = pd.DataFrame(project_data, columns=[\"Parameter\", \"Value\"])\n",
    "    df_project_info=df_project_info.T.reset_index(drop=True)\n",
    "    df_project_info.columns=df_project_info.iloc[0]\n",
    "    df_project_info=df_project_info[1:].reset_index(drop=True)\n",
    "    return df_project_info"
   ]
  },
  {
   "cell_type": "markdown",
   "id": "33ed5c75-7c0f-493a-8848-eb0b94dd0462",
   "metadata": {},
   "source": [
    "## 7) Toll Fees for vehicles"
   ]
  },
  {
   "cell_type": "code",
   "execution_count": 17,
   "id": "919a90b9-5ce9-4f93-b729-f7119bc89dd1",
   "metadata": {},
   "outputs": [],
   "source": [
    "def get_toll_fees(tables):\n",
    "    # print(\"Getting Toll Fees for Vehicles\")\n",
    "    toll_data = []\n",
    "    headers = [th.text.strip() for th in tables.find_all(\"th\")]\n",
    "    headers=headers[:5]\n",
    "    for row in tables.find_all(\"tr\")[1:]:  # Skip header row\n",
    "        cols = row.find_all([\"th\", \"td\"])\n",
    "        if len(cols) >0:\n",
    "            toll_data.append([col.text.strip() for col in cols])\n",
    "    df_toll_price = pd.DataFrame(toll_data, columns=headers)\n",
    "    \t\t\n",
    "    rows=list(df_toll_price.index)\n",
    "    cols=list(df_toll_price.columns)[1:]\n",
    "    column_names=[]\n",
    "    row_values=[]\n",
    "    for row_idx in rows:\n",
    "        for col_idx in cols:\n",
    "            col_name = f\"{df_toll_price.at[row_idx,'Type of vehicle']}_{col_idx}\"\n",
    "            column_names.append(col_name)\n",
    "            row_values.append(df_toll_price.at[row_idx,col_idx])\n",
    "    toll_price_df=pd.DataFrame([row_values],columns=column_names)\n",
    "    return toll_price_df"
   ]
  },
  {
   "cell_type": "markdown",
   "id": "ba4c5263-50b1-4cc8-935a-c10de4478479",
   "metadata": {},
   "source": [
    "# Main : Get html page objects for the given toll plaza. e.g tables, textual information"
   ]
  },
  {
   "cell_type": "code",
   "execution_count": 61,
   "id": "2fd8c378-110b-4550-8d29-ca4597889393",
   "metadata": {},
   "outputs": [],
   "source": [
    "def get_html_page_objects(plaza_url):\n",
    "    try:\n",
    "        driver.get(plaza_url)\n",
    "        html_content=driver.find_element(By.CSS_SELECTOR,'div.PA15').get_attribute(\"outerHTML\")\n",
    "        # Parse the HTML using BeautifulSoup\n",
    "        soup = BeautifulSoup(html_content, \"html.parser\")\n",
    "        \n",
    "        add_info_df=get_toll_info(soup)\n",
    "        # display(add_info_df)\n",
    "        \n",
    "        df_concession=get_concession_table(soup)\n",
    "        # display(df_concession)\n",
    "        \n",
    "        df_facilities=get_facilities_near_toll(soup)\n",
    "        # display(df_facilities)\n",
    "        \n",
    "        df_announcements=get_announcement_info(soup)\n",
    "        # display(df_announcements)\n",
    "        \n",
    "        df_important_info=get_important_info(soup)\n",
    "        # display(df_important_info)\n",
    "        # Find all tables\n",
    "        tables = soup.find_all(\"table\", class_=\"tollinfotbl\")\n",
    "        df_project_info=get_toll_construction_info(tables[1])\n",
    "        # display(df_project_info)\n",
    "        \n",
    "        toll_price_df=get_toll_fees(tables[0])\n",
    "        # display(toll_price_df)\n",
    "        \n",
    "        frames = [add_info_df,df_concession,df_facilities,df_announcements,df_important_info,df_project_info,toll_price_df]\n",
    "        derived_df=pd.concat(frames, axis=1)\n",
    "    except Exception as e:\n",
    "        print(type(e).__name__)\n",
    "        return pd.DataFrame()\n",
    "    return derived_df"
   ]
  },
  {
   "cell_type": "code",
   "execution_count": 19,
   "id": "e56f29c5-0790-4603-af23-f025b761f829",
   "metadata": {},
   "outputs": [
    {
     "name": "stdout",
     "output_type": "stream",
     "text": [
      "Total number of toll plazas = 1053\n"
     ]
    }
   ],
   "source": [
    "print(f\"Total number of toll plazas = {toll_plazas_df.shape[0]}\")"
   ]
  },
  {
   "cell_type": "code",
   "execution_count": 87,
   "id": "f06d0ec4-bb71-436c-8471-a0f2a007cc77",
   "metadata": {},
   "outputs": [
    {
     "name": "stdout",
     "output_type": "stream",
     "text": [
      "Construct url for Toll Plaza Name:Toll Plaza ID:URL\n",
      "0:Aganampudi:236:https://tis.nhai.gov.in/TollInformation.aspx?TollPlazaID=236\n",
      "1:Amakathadu:258:https://tis.nhai.gov.in/TollInformation.aspx?TollPlazaID=258\n"
     ]
    }
   ],
   "source": [
    "toll_plaza_urls= []\n",
    "print(f\"Construct url for Toll Plaza Name:Toll Plaza ID:URL\")\n",
    "for idx in range(0,2):\n",
    "    toll_plaza_name= toll_plazas_df['Toll Plaza Name'][idx]\n",
    "    toll_plaza_id=toll_plazas_df['TollPlazaID'][idx]\n",
    "    # print(toll_plaza_name,toll_plaza_id)\n",
    "    plaza_url = f\"{base_url}{toll_plaza_id}\"\n",
    "    print(f\"{idx}:{toll_plaza_name}:{toll_plaza_id}:{plaza_url}\")\n",
    "    # plaza_url=launch_toll_info_page(toll_plaza_id)\n",
    "    toll_plaza_urls.append(plaza_url)  "
   ]
  },
  {
   "cell_type": "code",
   "execution_count": 88,
   "id": "02b088fd-9921-4a6a-8fb8-42251885c2d4",
   "metadata": {},
   "outputs": [
    {
     "name": "stdout",
     "output_type": "stream",
     "text": [
      "Total number of toll plazas urls constructed = 2\n"
     ]
    }
   ],
   "source": [
    "print(f\"Total number of toll plazas urls constructed = {len(toll_plaza_urls)}\")"
   ]
  },
  {
   "cell_type": "code",
   "execution_count": 90,
   "id": "8e48281f-29bd-49d6-a66a-dc53226e3dac",
   "metadata": {},
   "outputs": [],
   "source": [
    "toll_plaza_urls.extend(['https://tis.nhai.gov.in/TollInformation.aspx?TollPlazaID=311','https://tis.nhai.gov.in/TollInformation.aspx?TollPlazaID=5939'])"
   ]
  },
  {
   "cell_type": "code",
   "execution_count": 91,
   "id": "ad6b6e9a-d98d-4cd8-8513-3d8011257317",
   "metadata": {},
   "outputs": [
    {
     "data": {
      "text/plain": [
       "['https://tis.nhai.gov.in/TollInformation.aspx?TollPlazaID=236',\n",
       " 'https://tis.nhai.gov.in/TollInformation.aspx?TollPlazaID=258',\n",
       " 'https://tis.nhai.gov.in/TollInformation.aspx?TollPlazaID=311',\n",
       " 'https://tis.nhai.gov.in/TollInformation.aspx?TollPlazaID=5939']"
      ]
     },
     "execution_count": 91,
     "metadata": {},
     "output_type": "execute_result"
    }
   ],
   "source": [
    "toll_plaza_urls"
   ]
  },
  {
   "cell_type": "code",
   "execution_count": null,
   "id": "6eec85cd-0fd7-43c9-9207-feb3bcc73c3d",
   "metadata": {},
   "outputs": [],
   "source": []
  },
  {
   "cell_type": "code",
   "execution_count": 92,
   "id": "34fcc5b7-79ad-4ad7-85e5-b7ef6c9f62cd",
   "metadata": {},
   "outputs": [
    {
     "name": "stdout",
     "output_type": "stream",
     "text": [
      "https://tis.nhai.gov.in/TollInformation.aspx?TollPlazaID=236\n",
      "https://tis.nhai.gov.in/TollInformation.aspx?TollPlazaID=258\n",
      "https://tis.nhai.gov.in/TollInformation.aspx?TollPlazaID=311\n",
      "NoSuchElementException\n",
      "No data received for https://tis.nhai.gov.in/TollInformation.aspx?TollPlazaID=311\n",
      "https://tis.nhai.gov.in/TollInformation.aspx?TollPlazaID=5939\n"
     ]
    }
   ],
   "source": [
    "enriched_df = pd.DataFrame()\n",
    "for url in toll_plaza_urls:\n",
    "    print(url)\n",
    "    toll_plaza_id_derived=int(url.split(\"=\")[1])\n",
    "    df=get_html_page_objects(url)\n",
    "    if not df.empty:\n",
    "        df.insert(0,'toll_plaza_id',toll_plaza_id_derived)\n",
    "    else:\n",
    "        print(f\"No data received for {test_url}\")\n",
    "        df = pd.DataFrame(data = {'toll_plaza_id':[toll_plaza_id_derived]})\n",
    "    enriched_df=enriched_df._append(df,ignore_index=True)"
   ]
  },
  {
   "cell_type": "code",
   "execution_count": 93,
   "id": "a5652a56-4a03-4a9e-baf4-287e6ab2d4b9",
   "metadata": {},
   "outputs": [
    {
     "data": {
      "text/html": [
       "<div>\n",
       "<style scoped>\n",
       "    .dataframe tbody tr th:only-of-type {\n",
       "        vertical-align: middle;\n",
       "    }\n",
       "\n",
       "    .dataframe tbody tr th {\n",
       "        vertical-align: top;\n",
       "    }\n",
       "\n",
       "    .dataframe thead th {\n",
       "        text-align: right;\n",
       "    }\n",
       "</style>\n",
       "<table border=\"1\" class=\"dataframe\">\n",
       "  <thead>\n",
       "    <tr style=\"text-align: right;\">\n",
       "      <th></th>\n",
       "      <th>toll_plaza_id</th>\n",
       "      <th>Stretch</th>\n",
       "      <th>Tollable Length</th>\n",
       "      <th>Fee Effective Date</th>\n",
       "      <th>Due Date of Toll Revision</th>\n",
       "      <th>Concessions</th>\n",
       "      <th>Rest Areas</th>\n",
       "      <th>Truck Lay byes</th>\n",
       "      <th>Static Weigh Bridge</th>\n",
       "      <th>Announcement</th>\n",
       "      <th>...</th>\n",
       "      <th>4 to 6 Axle_Monthly Pass</th>\n",
       "      <th>4 to 6 Axle_Commercial Vehicle Registered within the district of plaza</th>\n",
       "      <th>HCM/EME_Single Journey</th>\n",
       "      <th>HCM/EME_Return Journey</th>\n",
       "      <th>HCM/EME_Monthly Pass</th>\n",
       "      <th>HCM/EME_Commercial Vehicle Registered within the district of plaza</th>\n",
       "      <th>7 or more Axle_Single Journey</th>\n",
       "      <th>7 or more Axle_Return Journey</th>\n",
       "      <th>7 or more Axle_Monthly Pass</th>\n",
       "      <th>7 or more Axle_Commercial Vehicle Registered within the district of plaza</th>\n",
       "    </tr>\n",
       "  </thead>\n",
       "  <tbody>\n",
       "    <tr>\n",
       "      <th>0</th>\n",
       "      <td>236</td>\n",
       "      <td>Vishakhapatnam - Ankapalli [Km 2.837 to &amp;Km 395.870 to Km358.00(New Chainage From Km 700.544 to Km 740.255)]</td>\n",
       "      <td>Km 40.707 Km(s)</td>\n",
       "      <td>03-Jun-2024</td>\n",
       "      <td>31-Mar-2025</td>\n",
       "      <td>The rates for monthly pass applicable for local non-commercial vehicle residing within a distance of 20 km from the toll plaza for the year 2024-25 shall be Rs.340/-, subject to revision every year as per the provisions of the 2008 Amended Fee Rules.</td>\n",
       "      <td>0</td>\n",
       "      <td>0</td>\n",
       "      <td>0</td>\n",
       "      <td>Toll rates due for revision w.e.f : 31 Mar 2025</td>\n",
       "      <td>...</td>\n",
       "      <td>11450.00</td>\n",
       "      <td>170.00</td>\n",
       "      <td>345.00</td>\n",
       "      <td>515.00</td>\n",
       "      <td>11450.00</td>\n",
       "      <td>170.00</td>\n",
       "      <td>420.00</td>\n",
       "      <td>625.00</td>\n",
       "      <td>13935.00</td>\n",
       "      <td>210.00</td>\n",
       "    </tr>\n",
       "    <tr>\n",
       "      <th>1</th>\n",
       "      <td>258</td>\n",
       "      <td>Hyderabad  Bangalore (km 211.000 to km 462.164)</td>\n",
       "      <td>84.000 Km(s)</td>\n",
       "      <td>03-Jun-2024</td>\n",
       "      <td>31-Mar-2025</td>\n",
       "      <td>Monthly pass applicable local non-commercial vehicles  Residing with in radius of 20 km  :Rs.340/-.The Concessionaire shall issue  50 or more one way tickets at a discounted rate equivalent to 2/3rd of the fee payable during the period of one month form the date of payment of fee. The amount indicated is for monthly pass for 50 one way trips. However, if any person asks more than 50 trips during a period of one month, the Concessionaire shall be required to issue such tickets at a discounted...</td>\n",
       "      <td>NA</td>\n",
       "      <td>NA</td>\n",
       "      <td>02 Nos.</td>\n",
       "      <td>Toll rates due for revision w.e.f : 31 Mar 2025</td>\n",
       "      <td>...</td>\n",
       "      <td>23835.00</td>\n",
       "      <td>355.00</td>\n",
       "      <td>715.00</td>\n",
       "      <td>1070.00</td>\n",
       "      <td>23835.00</td>\n",
       "      <td>355.00</td>\n",
       "      <td>870.00</td>\n",
       "      <td>1305.00</td>\n",
       "      <td>29015.00</td>\n",
       "      <td>435.00</td>\n",
       "    </tr>\n",
       "    <tr>\n",
       "      <th>2</th>\n",
       "      <td>311</td>\n",
       "      <td>NaN</td>\n",
       "      <td>NaN</td>\n",
       "      <td>NaN</td>\n",
       "      <td>NaN</td>\n",
       "      <td>NaN</td>\n",
       "      <td>NaN</td>\n",
       "      <td>NaN</td>\n",
       "      <td>NaN</td>\n",
       "      <td>NaN</td>\n",
       "      <td>...</td>\n",
       "      <td>NaN</td>\n",
       "      <td>NaN</td>\n",
       "      <td>NaN</td>\n",
       "      <td>NaN</td>\n",
       "      <td>NaN</td>\n",
       "      <td>NaN</td>\n",
       "      <td>NaN</td>\n",
       "      <td>NaN</td>\n",
       "      <td>NaN</td>\n",
       "      <td>NaN</td>\n",
       "    </tr>\n",
       "    <tr>\n",
       "      <th>3</th>\n",
       "      <td>5939</td>\n",
       "      <td>Delhi to Agra</td>\n",
       "      <td>KM 63.220 Km(s)</td>\n",
       "      <td>03-Jun-2024</td>\n",
       "      <td>31-Mar-2025</td>\n",
       "      <td>Toll rates due for revision w.e.f : 31 Mar 2025</td>\n",
       "      <td>Yes</td>\n",
       "      <td>NA</td>\n",
       "      <td>Yes</td>\n",
       "      <td>Toll rates due for revision w.e.f : 31 Mar 2025</td>\n",
       "      <td>...</td>\n",
       "      <td>16405.00</td>\n",
       "      <td>NA</td>\n",
       "      <td>490.00</td>\n",
       "      <td>740.00</td>\n",
       "      <td>16405.00</td>\n",
       "      <td>NA</td>\n",
       "      <td>600.00</td>\n",
       "      <td>900.00</td>\n",
       "      <td>19970.00</td>\n",
       "      <td>NA</td>\n",
       "    </tr>\n",
       "  </tbody>\n",
       "</table>\n",
       "<p>4 rows × 58 columns</p>\n",
       "</div>"
      ],
      "text/plain": [
       "   toll_plaza_id  \\\n",
       "0            236   \n",
       "1            258   \n",
       "2            311   \n",
       "3           5939   \n",
       "\n",
       "                                                                                                        Stretch  \\\n",
       "0  Vishakhapatnam - Ankapalli [Km 2.837 to &Km 395.870 to Km358.00(New Chainage From Km 700.544 to Km 740.255)]   \n",
       "1                                                               Hyderabad  Bangalore (km 211.000 to km 462.164)   \n",
       "2                                                                                                           NaN   \n",
       "3                                                                                                 Delhi to Agra   \n",
       "\n",
       "   Tollable Length Fee Effective Date Due Date of Toll Revision  \\\n",
       "0  Km 40.707 Km(s)        03-Jun-2024               31-Mar-2025   \n",
       "1     84.000 Km(s)        03-Jun-2024               31-Mar-2025   \n",
       "2              NaN                NaN                       NaN   \n",
       "3  KM 63.220 Km(s)        03-Jun-2024               31-Mar-2025   \n",
       "\n",
       "                                                                                                                                                                                                                                                                                                                                                                                                                                                                                                           Concessions  \\\n",
       "0                                                                                                                                                                                                                                                           The rates for monthly pass applicable for local non-commercial vehicle residing within a distance of 20 km from the toll plaza for the year 2024-25 shall be Rs.340/-, subject to revision every year as per the provisions of the 2008 Amended Fee Rules.   \n",
       "1  Monthly pass applicable local non-commercial vehicles  Residing with in radius of 20 km  :Rs.340/-.The Concessionaire shall issue  50 or more one way tickets at a discounted rate equivalent to 2/3rd of the fee payable during the period of one month form the date of payment of fee. The amount indicated is for monthly pass for 50 one way trips. However, if any person asks more than 50 trips during a period of one month, the Concessionaire shall be required to issue such tickets at a discounted...   \n",
       "2                                                                                                                                                                                                                                                                                                                                                                                                                                                                                                                  NaN   \n",
       "3                                                                                                                                                                                                                                                                                                                                                                                                                                                                      Toll rates due for revision w.e.f : 31 Mar 2025   \n",
       "\n",
       "  Rest Areas Truck Lay byes Static Weigh Bridge  \\\n",
       "0          0              0                   0   \n",
       "1         NA             NA             02 Nos.   \n",
       "2        NaN            NaN                 NaN   \n",
       "3        Yes             NA                 Yes   \n",
       "\n",
       "                                      Announcement  ...  \\\n",
       "0  Toll rates due for revision w.e.f : 31 Mar 2025  ...   \n",
       "1  Toll rates due for revision w.e.f : 31 Mar 2025  ...   \n",
       "2                                              NaN  ...   \n",
       "3  Toll rates due for revision w.e.f : 31 Mar 2025  ...   \n",
       "\n",
       "  4 to 6 Axle_Monthly Pass  \\\n",
       "0                 11450.00   \n",
       "1                 23835.00   \n",
       "2                      NaN   \n",
       "3                 16405.00   \n",
       "\n",
       "  4 to 6 Axle_Commercial Vehicle Registered within the district of plaza  \\\n",
       "0                                                                 170.00   \n",
       "1                                                                 355.00   \n",
       "2                                                                    NaN   \n",
       "3                                                                     NA   \n",
       "\n",
       "  HCM/EME_Single Journey HCM/EME_Return Journey HCM/EME_Monthly Pass  \\\n",
       "0                 345.00                 515.00             11450.00   \n",
       "1                 715.00                1070.00             23835.00   \n",
       "2                    NaN                    NaN                  NaN   \n",
       "3                 490.00                 740.00             16405.00   \n",
       "\n",
       "  HCM/EME_Commercial Vehicle Registered within the district of plaza  \\\n",
       "0                                                             170.00   \n",
       "1                                                             355.00   \n",
       "2                                                                NaN   \n",
       "3                                                                 NA   \n",
       "\n",
       "  7 or more Axle_Single Journey 7 or more Axle_Return Journey  \\\n",
       "0                        420.00                        625.00   \n",
       "1                        870.00                       1305.00   \n",
       "2                           NaN                           NaN   \n",
       "3                        600.00                        900.00   \n",
       "\n",
       "  7 or more Axle_Monthly Pass  \\\n",
       "0                    13935.00   \n",
       "1                    29015.00   \n",
       "2                         NaN   \n",
       "3                    19970.00   \n",
       "\n",
       "  7 or more Axle_Commercial Vehicle Registered within the district of plaza  \n",
       "0                                                                    210.00  \n",
       "1                                                                    435.00  \n",
       "2                                                                       NaN  \n",
       "3                                                                        NA  \n",
       "\n",
       "[4 rows x 58 columns]"
      ]
     },
     "execution_count": 93,
     "metadata": {},
     "output_type": "execute_result"
    }
   ],
   "source": [
    "enriched_df"
   ]
  },
  {
   "cell_type": "code",
   "execution_count": 83,
   "id": "67e98d13-16bc-429e-9245-28f79a353c24",
   "metadata": {},
   "outputs": [
    {
     "data": {
      "text/plain": [
       "[]"
      ]
     },
     "execution_count": 83,
     "metadata": {},
     "output_type": "execute_result"
    }
   ],
   "source": [
    "toll_plaza_urls[168:170]"
   ]
  },
  {
   "cell_type": "code",
   "execution_count": 82,
   "id": "fda122c1-d06f-47b7-adc4-0f0fdab81b4f",
   "metadata": {},
   "outputs": [
    {
     "name": "stdout",
     "output_type": "stream",
     "text": [
      "NoSuchElementException\n",
      "No data received for https://tis.nhai.gov.in/TollInformation.aspx?TollPlazaID=311\n"
     ]
    }
   ],
   "source": [
    "test_url='https://tis.nhai.gov.in/TollInformation.aspx?TollPlazaID=311'\n",
    "toll_plaza_id_derived=int(test_url.split(\"=\")[1])\n",
    "df=get_html_page_objects(test_url)\n",
    "if not df.empty:\n",
    "    df.insert(0,'toll_plaza_id',toll_plaza_id_derived)\n",
    "else:\n",
    "    print(f\"No data received for {test_url}\")\n",
    "    df = pd.DataFrame(data = {'toll_plaza_id':[toll_plaza_id_derived]})"
   ]
  },
  {
   "cell_type": "code",
   "execution_count": 78,
   "id": "86ef2bb5-24b2-4cfa-8c4f-25526d217edc",
   "metadata": {},
   "outputs": [
    {
     "data": {
      "text/html": [
       "<div>\n",
       "<style scoped>\n",
       "    .dataframe tbody tr th:only-of-type {\n",
       "        vertical-align: middle;\n",
       "    }\n",
       "\n",
       "    .dataframe tbody tr th {\n",
       "        vertical-align: top;\n",
       "    }\n",
       "\n",
       "    .dataframe thead th {\n",
       "        text-align: right;\n",
       "    }\n",
       "</style>\n",
       "<table border=\"1\" class=\"dataframe\">\n",
       "  <thead>\n",
       "    <tr style=\"text-align: right;\">\n",
       "      <th></th>\n",
       "      <th>toll_plaza_id</th>\n",
       "    </tr>\n",
       "  </thead>\n",
       "  <tbody>\n",
       "    <tr>\n",
       "      <th>0</th>\n",
       "      <td>311</td>\n",
       "    </tr>\n",
       "  </tbody>\n",
       "</table>\n",
       "</div>"
      ],
      "text/plain": [
       "   toll_plaza_id\n",
       "0            311"
      ]
     },
     "execution_count": 78,
     "metadata": {},
     "output_type": "execute_result"
    }
   ],
   "source": [
    "df"
   ]
  },
  {
   "cell_type": "code",
   "execution_count": 79,
   "id": "6d1bf498-d57d-44ff-9a48-1d7e3da4263c",
   "metadata": {},
   "outputs": [
    {
     "data": {
      "text/html": [
       "<div>\n",
       "<style scoped>\n",
       "    .dataframe tbody tr th:only-of-type {\n",
       "        vertical-align: middle;\n",
       "    }\n",
       "\n",
       "    .dataframe tbody tr th {\n",
       "        vertical-align: top;\n",
       "    }\n",
       "\n",
       "    .dataframe thead th {\n",
       "        text-align: right;\n",
       "    }\n",
       "</style>\n",
       "<table border=\"1\" class=\"dataframe\">\n",
       "  <thead>\n",
       "    <tr style=\"text-align: right;\">\n",
       "      <th></th>\n",
       "      <th>0</th>\n",
       "    </tr>\n",
       "  </thead>\n",
       "  <tbody>\n",
       "    <tr>\n",
       "      <th>toll_plaza_id</th>\n",
       "      <td>311</td>\n",
       "    </tr>\n",
       "  </tbody>\n",
       "</table>\n",
       "</div>"
      ],
      "text/plain": [
       "                 0\n",
       "toll_plaza_id  311"
      ]
     },
     "execution_count": 79,
     "metadata": {},
     "output_type": "execute_result"
    }
   ],
   "source": [
    "df.T"
   ]
  },
  {
   "cell_type": "code",
   "execution_count": 48,
   "id": "a0c6618a-c376-498f-a2cc-83a0bd247bdd",
   "metadata": {},
   "outputs": [
    {
     "name": "stdout",
     "output_type": "stream",
     "text": [
      "NoSuchElementException\n"
     ]
    }
   ],
   "source": [
    "driver.get('https://tis.nhai.gov.in/TollInformation.aspx?TollPlazaID=311')\n",
    "try:\n",
    "    html_content=driver.find_element(By.CSS_SELECTOR,'div.PA15').get_attribute(\"outerHTML\")\n",
    "    # Parse the HTML using BeautifulSoup\n",
    "    soup = BeautifulSoup(html_content, \"html.parser\")\n",
    "except Exception as e:\n",
    "       print(type(e).__name__)"
   ]
  },
  {
   "cell_type": "code",
   "execution_count": null,
   "id": "c10bfc0b-2020-4260-bd2b-94eb7af3980a",
   "metadata": {},
   "outputs": [],
   "source": []
  },
  {
   "cell_type": "code",
   "execution_count": null,
   "id": "e00970d4-d4c3-43d7-a37d-ef6df16bbacf",
   "metadata": {},
   "outputs": [],
   "source": []
  },
  {
   "cell_type": "markdown",
   "id": "d3ab5f31-55a3-46cb-a788-792e82106940",
   "metadata": {},
   "source": [
    "# Toll price"
   ]
  },
  {
   "cell_type": "code",
   "execution_count": 334,
   "id": "41718f88-7d63-4d93-b1be-48d8f2be863e",
   "metadata": {},
   "outputs": [],
   "source": [
    "driver.get(\"https://tis.nhai.gov.in/TollInformation.aspx?TollPlazaID=236\")"
   ]
  },
  {
   "cell_type": "code",
   "execution_count": 335,
   "id": "a37a44ee-8818-488e-be26-123f958d554d",
   "metadata": {},
   "outputs": [],
   "source": [
    "try:\n",
    "    html_content=driver.find_element(By.CSS_SELECTOR,'div.PA15').get_attribute(\"outerHTML\")\n",
    "except Exception as e:\n",
    "    print(type(e).__name__)\n",
    "    print(str(e))"
   ]
  },
  {
   "cell_type": "code",
   "execution_count": null,
   "id": "be0cf75e-b78a-4bca-a087-1e437dd2f783",
   "metadata": {},
   "outputs": [],
   "source": []
  },
  {
   "cell_type": "code",
   "execution_count": 336,
   "id": "a69527b2-a107-4fcb-af0f-4a932d021f5d",
   "metadata": {},
   "outputs": [],
   "source": [
    "# Parse the HTML using BeautifulSoup\n",
    "soup = BeautifulSoup(html_content, \"html.parser\")\n",
    "# Find all tables\n",
    "tables = soup.find_all(\"table\", class_=\"tollinfotbl\")"
   ]
  },
  {
   "cell_type": "code",
   "execution_count": 337,
   "id": "05b28125-da3b-47db-99c0-24be03c19b45",
   "metadata": {},
   "outputs": [],
   "source": [
    "# tables"
   ]
  },
  {
   "cell_type": "markdown",
   "id": "2011d87c-a4d3-4ff1-8185-5e095678ebdd",
   "metadata": {},
   "source": [
    "# Extract Toll Information Table"
   ]
  },
  {
   "cell_type": "code",
   "execution_count": 338,
   "id": "3d5fccc7-4b2e-4153-8197-432a867bc3a6",
   "metadata": {},
   "outputs": [],
   "source": [
    "toll_data = []\n",
    "headers = [th.text.strip() for th in tables[0].find_all(\"th\")]"
   ]
  },
  {
   "cell_type": "code",
   "execution_count": 339,
   "id": "3f360e97-9928-4cfd-b099-dc0023b702e0",
   "metadata": {},
   "outputs": [],
   "source": [
    "headers=headers[:5]"
   ]
  },
  {
   "cell_type": "code",
   "execution_count": 340,
   "id": "83d6aaf7-2c9d-46a5-ac42-652ac018b5ef",
   "metadata": {},
   "outputs": [],
   "source": [
    "for row in tables[0].find_all(\"tr\")[1:]:  # Skip header row\n",
    "    cols = row.find_all([\"th\", \"td\"])\n",
    "    if len(cols) >0:\n",
    "        toll_data.append([col.text.strip() for col in cols])"
   ]
  },
  {
   "cell_type": "code",
   "execution_count": 341,
   "id": "111f8cdf-3e99-4874-aa30-a1141ba4e59d",
   "metadata": {},
   "outputs": [],
   "source": [
    "# toll_data"
   ]
  },
  {
   "cell_type": "code",
   "execution_count": 344,
   "id": "49e0ad68-941f-4a2a-b0a5-c97cb8f44ee3",
   "metadata": {},
   "outputs": [],
   "source": [
    "df_toll_price = pd.DataFrame(toll_data, columns=headers)"
   ]
  },
  {
   "cell_type": "code",
   "execution_count": 345,
   "id": "bc664490-f3dd-4945-9b76-e9153c1bd7a8",
   "metadata": {},
   "outputs": [
    {
     "data": {
      "text/html": [
       "<div>\n",
       "<style scoped>\n",
       "    .dataframe tbody tr th:only-of-type {\n",
       "        vertical-align: middle;\n",
       "    }\n",
       "\n",
       "    .dataframe tbody tr th {\n",
       "        vertical-align: top;\n",
       "    }\n",
       "\n",
       "    .dataframe thead th {\n",
       "        text-align: right;\n",
       "    }\n",
       "</style>\n",
       "<table border=\"1\" class=\"dataframe\">\n",
       "  <thead>\n",
       "    <tr style=\"text-align: right;\">\n",
       "      <th></th>\n",
       "      <th>Type of vehicle</th>\n",
       "      <th>Single Journey</th>\n",
       "      <th>Return Journey</th>\n",
       "      <th>Monthly Pass</th>\n",
       "      <th>Commercial Vehicle Registered within the district of plaza</th>\n",
       "    </tr>\n",
       "  </thead>\n",
       "  <tbody>\n",
       "    <tr>\n",
       "      <th>0</th>\n",
       "      <td>Car/Jeep/Van</td>\n",
       "      <td>135.00</td>\n",
       "      <td>200.00</td>\n",
       "      <td>4490.00</td>\n",
       "      <td>65.00</td>\n",
       "    </tr>\n",
       "    <tr>\n",
       "      <th>1</th>\n",
       "      <td>LCV</td>\n",
       "      <td>220.00</td>\n",
       "      <td>325.00</td>\n",
       "      <td>7255.00</td>\n",
       "      <td>110.00</td>\n",
       "    </tr>\n",
       "    <tr>\n",
       "      <th>2</th>\n",
       "      <td>Bus/Truck</td>\n",
       "      <td>455.00</td>\n",
       "      <td>685.00</td>\n",
       "      <td>15200.00</td>\n",
       "      <td>230.00</td>\n",
       "    </tr>\n",
       "    <tr>\n",
       "      <th>3</th>\n",
       "      <td>Upto 3 Axle Vehicle</td>\n",
       "      <td>495.00</td>\n",
       "      <td>745.00</td>\n",
       "      <td>16580.00</td>\n",
       "      <td>250.00</td>\n",
       "    </tr>\n",
       "    <tr>\n",
       "      <th>4</th>\n",
       "      <td>4 to 6 Axle</td>\n",
       "      <td>715.00</td>\n",
       "      <td>1070.00</td>\n",
       "      <td>23835.00</td>\n",
       "      <td>355.00</td>\n",
       "    </tr>\n",
       "    <tr>\n",
       "      <th>5</th>\n",
       "      <td>HCM/EME</td>\n",
       "      <td>715.00</td>\n",
       "      <td>1070.00</td>\n",
       "      <td>23835.00</td>\n",
       "      <td>355.00</td>\n",
       "    </tr>\n",
       "    <tr>\n",
       "      <th>6</th>\n",
       "      <td>7 or more Axle</td>\n",
       "      <td>870.00</td>\n",
       "      <td>1305.00</td>\n",
       "      <td>29015.00</td>\n",
       "      <td>435.00</td>\n",
       "    </tr>\n",
       "  </tbody>\n",
       "</table>\n",
       "</div>"
      ],
      "text/plain": [
       "       Type of vehicle Single Journey Return Journey Monthly Pass  \\\n",
       "0         Car/Jeep/Van         135.00         200.00      4490.00   \n",
       "1                  LCV         220.00         325.00      7255.00   \n",
       "2            Bus/Truck         455.00         685.00     15200.00   \n",
       "3  Upto 3 Axle Vehicle         495.00         745.00     16580.00   \n",
       "4          4 to 6 Axle         715.00        1070.00     23835.00   \n",
       "5              HCM/EME         715.00        1070.00     23835.00   \n",
       "6       7 or more Axle         870.00        1305.00     29015.00   \n",
       "\n",
       "  Commercial Vehicle Registered within the district of plaza  \n",
       "0                                                      65.00  \n",
       "1                                                     110.00  \n",
       "2                                                     230.00  \n",
       "3                                                     250.00  \n",
       "4                                                     355.00  \n",
       "5                                                     355.00  \n",
       "6                                                     435.00  "
      ]
     },
     "execution_count": 345,
     "metadata": {},
     "output_type": "execute_result"
    }
   ],
   "source": [
    "df_toll_price"
   ]
  },
  {
   "cell_type": "code",
   "execution_count": 252,
   "id": "17f73a74-8e29-4b1d-9423-79246018ab60",
   "metadata": {},
   "outputs": [],
   "source": [
    "# df.at[4, 'B'] = 10\n",
    "# df.loc[5].at['B']"
   ]
  },
  {
   "cell_type": "code",
   "execution_count": 264,
   "id": "f8224c26-7f7c-4991-bdaa-fff75a56cb53",
   "metadata": {},
   "outputs": [
    {
     "data": {
      "text/plain": [
       "[0, 1, 2, 3, 4, 5, 6]"
      ]
     },
     "execution_count": 264,
     "metadata": {},
     "output_type": "execute_result"
    }
   ],
   "source": [
    "rows=list(df_toll_price.index)\n",
    "rows"
   ]
  },
  {
   "cell_type": "code",
   "execution_count": 270,
   "id": "d18833d6-7ad4-44ad-8806-20b4dbf3e4e3",
   "metadata": {},
   "outputs": [
    {
     "data": {
      "text/plain": [
       "['Single Journey',\n",
       " 'Return Journey',\n",
       " 'Monthly Pass',\n",
       " 'Commercial Vehicle Registered within the district of plaza']"
      ]
     },
     "execution_count": 270,
     "metadata": {},
     "output_type": "execute_result"
    }
   ],
   "source": [
    "cols=list(df_toll_price.columns)[1:]\n",
    "cols"
   ]
  },
  {
   "cell_type": "code",
   "execution_count": 277,
   "id": "3bcd6cc3-0b03-4ffc-88ad-a74b98127502",
   "metadata": {},
   "outputs": [],
   "source": [
    "column_names=[]\n",
    "row_values=[]\n",
    "for row_idx in rows:\n",
    "    for col_idx in cols:\n",
    "        col_name = f\"{df_toll_price.at[row_idx,'Type of vehicle']}_{col_idx}\"\n",
    "        column_names.append(col_name)\n",
    "        row_values.append(df_toll_price.at[row_idx,col_idx])\n",
    "        # print(col_name,df_toll_price.at[row_idx,col_idx])\n",
    "    # print(\"\")    "
   ]
  },
  {
   "cell_type": "code",
   "execution_count": 293,
   "id": "96c80112-40fd-456d-959b-a4ecc393177a",
   "metadata": {},
   "outputs": [],
   "source": [
    "toll_price_df=pd.DataFrame([row_values],columns=column_names)"
   ]
  },
  {
   "cell_type": "code",
   "execution_count": 294,
   "id": "4db5db0b-970b-4f8c-9475-1d3a53c9f29c",
   "metadata": {},
   "outputs": [
    {
     "data": {
      "text/html": [
       "<div>\n",
       "<style scoped>\n",
       "    .dataframe tbody tr th:only-of-type {\n",
       "        vertical-align: middle;\n",
       "    }\n",
       "\n",
       "    .dataframe tbody tr th {\n",
       "        vertical-align: top;\n",
       "    }\n",
       "\n",
       "    .dataframe thead th {\n",
       "        text-align: right;\n",
       "    }\n",
       "</style>\n",
       "<table border=\"1\" class=\"dataframe\">\n",
       "  <thead>\n",
       "    <tr style=\"text-align: right;\">\n",
       "      <th></th>\n",
       "      <th>Car/Jeep/Van_Single Journey</th>\n",
       "      <th>Car/Jeep/Van_Return Journey</th>\n",
       "      <th>Car/Jeep/Van_Monthly Pass</th>\n",
       "      <th>Car/Jeep/Van_Commercial Vehicle Registered within the district of plaza</th>\n",
       "      <th>LCV_Single Journey</th>\n",
       "      <th>LCV_Return Journey</th>\n",
       "      <th>LCV_Monthly Pass</th>\n",
       "      <th>LCV_Commercial Vehicle Registered within the district of plaza</th>\n",
       "      <th>Bus/Truck_Single Journey</th>\n",
       "      <th>Bus/Truck_Return Journey</th>\n",
       "      <th>...</th>\n",
       "      <th>4 to 6 Axle_Monthly Pass</th>\n",
       "      <th>4 to 6 Axle_Commercial Vehicle Registered within the district of plaza</th>\n",
       "      <th>HCM/EME_Single Journey</th>\n",
       "      <th>HCM/EME_Return Journey</th>\n",
       "      <th>HCM/EME_Monthly Pass</th>\n",
       "      <th>HCM/EME_Commercial Vehicle Registered within the district of plaza</th>\n",
       "      <th>7 or more Axle_Single Journey</th>\n",
       "      <th>7 or more Axle_Return Journey</th>\n",
       "      <th>7 or more Axle_Monthly Pass</th>\n",
       "      <th>7 or more Axle_Commercial Vehicle Registered within the district of plaza</th>\n",
       "    </tr>\n",
       "  </thead>\n",
       "  <tbody>\n",
       "    <tr>\n",
       "      <th>0</th>\n",
       "      <td>65.00</td>\n",
       "      <td>95.00</td>\n",
       "      <td>2155.00</td>\n",
       "      <td>30.00</td>\n",
       "      <td>105.00</td>\n",
       "      <td>155.00</td>\n",
       "      <td>3485.00</td>\n",
       "      <td>50.00</td>\n",
       "      <td>220.00</td>\n",
       "      <td>330.00</td>\n",
       "      <td>...</td>\n",
       "      <td>11450.00</td>\n",
       "      <td>170.00</td>\n",
       "      <td>345.00</td>\n",
       "      <td>515.00</td>\n",
       "      <td>11450.00</td>\n",
       "      <td>170.00</td>\n",
       "      <td>420.00</td>\n",
       "      <td>625.00</td>\n",
       "      <td>13935.00</td>\n",
       "      <td>210.00</td>\n",
       "    </tr>\n",
       "  </tbody>\n",
       "</table>\n",
       "<p>1 rows × 28 columns</p>\n",
       "</div>"
      ],
      "text/plain": [
       "  Car/Jeep/Van_Single Journey Car/Jeep/Van_Return Journey  \\\n",
       "0                       65.00                       95.00   \n",
       "\n",
       "  Car/Jeep/Van_Monthly Pass  \\\n",
       "0                   2155.00   \n",
       "\n",
       "  Car/Jeep/Van_Commercial Vehicle Registered within the district of plaza  \\\n",
       "0                                                                   30.00   \n",
       "\n",
       "  LCV_Single Journey LCV_Return Journey LCV_Monthly Pass  \\\n",
       "0             105.00             155.00          3485.00   \n",
       "\n",
       "  LCV_Commercial Vehicle Registered within the district of plaza  \\\n",
       "0                                                          50.00   \n",
       "\n",
       "  Bus/Truck_Single Journey Bus/Truck_Return Journey  ...  \\\n",
       "0                   220.00                   330.00  ...   \n",
       "\n",
       "  4 to 6 Axle_Monthly Pass  \\\n",
       "0                 11450.00   \n",
       "\n",
       "  4 to 6 Axle_Commercial Vehicle Registered within the district of plaza  \\\n",
       "0                                                                 170.00   \n",
       "\n",
       "  HCM/EME_Single Journey HCM/EME_Return Journey HCM/EME_Monthly Pass  \\\n",
       "0                 345.00                 515.00             11450.00   \n",
       "\n",
       "  HCM/EME_Commercial Vehicle Registered within the district of plaza  \\\n",
       "0                                                             170.00   \n",
       "\n",
       "  7 or more Axle_Single Journey 7 or more Axle_Return Journey  \\\n",
       "0                        420.00                        625.00   \n",
       "\n",
       "  7 or more Axle_Monthly Pass  \\\n",
       "0                    13935.00   \n",
       "\n",
       "  7 or more Axle_Commercial Vehicle Registered within the district of plaza  \n",
       "0                                                                    210.00  \n",
       "\n",
       "[1 rows x 28 columns]"
      ]
     },
     "execution_count": 294,
     "metadata": {},
     "output_type": "execute_result"
    }
   ],
   "source": [
    "toll_price_df"
   ]
  },
  {
   "cell_type": "code",
   "execution_count": 295,
   "id": "d7ee44cc-2630-4828-a1e3-8f7f30c44237",
   "metadata": {},
   "outputs": [
    {
     "data": {
      "text/html": [
       "<div>\n",
       "<style scoped>\n",
       "    .dataframe tbody tr th:only-of-type {\n",
       "        vertical-align: middle;\n",
       "    }\n",
       "\n",
       "    .dataframe tbody tr th {\n",
       "        vertical-align: top;\n",
       "    }\n",
       "\n",
       "    .dataframe thead th {\n",
       "        text-align: right;\n",
       "    }\n",
       "</style>\n",
       "<table border=\"1\" class=\"dataframe\">\n",
       "  <thead>\n",
       "    <tr style=\"text-align: right;\">\n",
       "      <th></th>\n",
       "      <th>0</th>\n",
       "    </tr>\n",
       "  </thead>\n",
       "  <tbody>\n",
       "    <tr>\n",
       "      <th>Car/Jeep/Van_Single Journey</th>\n",
       "      <td>65.00</td>\n",
       "    </tr>\n",
       "    <tr>\n",
       "      <th>Car/Jeep/Van_Return Journey</th>\n",
       "      <td>95.00</td>\n",
       "    </tr>\n",
       "    <tr>\n",
       "      <th>Car/Jeep/Van_Monthly Pass</th>\n",
       "      <td>2155.00</td>\n",
       "    </tr>\n",
       "    <tr>\n",
       "      <th>Car/Jeep/Van_Commercial Vehicle Registered within the district of plaza</th>\n",
       "      <td>30.00</td>\n",
       "    </tr>\n",
       "    <tr>\n",
       "      <th>LCV_Single Journey</th>\n",
       "      <td>105.00</td>\n",
       "    </tr>\n",
       "    <tr>\n",
       "      <th>LCV_Return Journey</th>\n",
       "      <td>155.00</td>\n",
       "    </tr>\n",
       "    <tr>\n",
       "      <th>LCV_Monthly Pass</th>\n",
       "      <td>3485.00</td>\n",
       "    </tr>\n",
       "    <tr>\n",
       "      <th>LCV_Commercial Vehicle Registered within the district of plaza</th>\n",
       "      <td>50.00</td>\n",
       "    </tr>\n",
       "    <tr>\n",
       "      <th>Bus/Truck_Single Journey</th>\n",
       "      <td>220.00</td>\n",
       "    </tr>\n",
       "    <tr>\n",
       "      <th>Bus/Truck_Return Journey</th>\n",
       "      <td>330.00</td>\n",
       "    </tr>\n",
       "    <tr>\n",
       "      <th>Bus/Truck_Monthly Pass</th>\n",
       "      <td>7300.00</td>\n",
       "    </tr>\n",
       "    <tr>\n",
       "      <th>Bus/Truck_Commercial Vehicle Registered within the district of plaza</th>\n",
       "      <td>110.00</td>\n",
       "    </tr>\n",
       "    <tr>\n",
       "      <th>Upto 3 Axle Vehicle_Single Journey</th>\n",
       "      <td>240.00</td>\n",
       "    </tr>\n",
       "    <tr>\n",
       "      <th>Upto 3 Axle Vehicle_Return Journey</th>\n",
       "      <td>360.00</td>\n",
       "    </tr>\n",
       "    <tr>\n",
       "      <th>Upto 3 Axle Vehicle_Monthly Pass</th>\n",
       "      <td>7965.00</td>\n",
       "    </tr>\n",
       "    <tr>\n",
       "      <th>Upto 3 Axle Vehicle_Commercial Vehicle Registered within the district of plaza</th>\n",
       "      <td>120.00</td>\n",
       "    </tr>\n",
       "    <tr>\n",
       "      <th>4 to 6 Axle_Single Journey</th>\n",
       "      <td>345.00</td>\n",
       "    </tr>\n",
       "    <tr>\n",
       "      <th>4 to 6 Axle_Return Journey</th>\n",
       "      <td>515.00</td>\n",
       "    </tr>\n",
       "    <tr>\n",
       "      <th>4 to 6 Axle_Monthly Pass</th>\n",
       "      <td>11450.00</td>\n",
       "    </tr>\n",
       "    <tr>\n",
       "      <th>4 to 6 Axle_Commercial Vehicle Registered within the district of plaza</th>\n",
       "      <td>170.00</td>\n",
       "    </tr>\n",
       "    <tr>\n",
       "      <th>HCM/EME_Single Journey</th>\n",
       "      <td>345.00</td>\n",
       "    </tr>\n",
       "    <tr>\n",
       "      <th>HCM/EME_Return Journey</th>\n",
       "      <td>515.00</td>\n",
       "    </tr>\n",
       "    <tr>\n",
       "      <th>HCM/EME_Monthly Pass</th>\n",
       "      <td>11450.00</td>\n",
       "    </tr>\n",
       "    <tr>\n",
       "      <th>HCM/EME_Commercial Vehicle Registered within the district of plaza</th>\n",
       "      <td>170.00</td>\n",
       "    </tr>\n",
       "    <tr>\n",
       "      <th>7 or more Axle_Single Journey</th>\n",
       "      <td>420.00</td>\n",
       "    </tr>\n",
       "    <tr>\n",
       "      <th>7 or more Axle_Return Journey</th>\n",
       "      <td>625.00</td>\n",
       "    </tr>\n",
       "    <tr>\n",
       "      <th>7 or more Axle_Monthly Pass</th>\n",
       "      <td>13935.00</td>\n",
       "    </tr>\n",
       "    <tr>\n",
       "      <th>7 or more Axle_Commercial Vehicle Registered within the district of plaza</th>\n",
       "      <td>210.00</td>\n",
       "    </tr>\n",
       "  </tbody>\n",
       "</table>\n",
       "</div>"
      ],
      "text/plain": [
       "                                                                                       0\n",
       "Car/Jeep/Van_Single Journey                                                        65.00\n",
       "Car/Jeep/Van_Return Journey                                                        95.00\n",
       "Car/Jeep/Van_Monthly Pass                                                        2155.00\n",
       "Car/Jeep/Van_Commercial Vehicle Registered within the district of plaza            30.00\n",
       "LCV_Single Journey                                                                105.00\n",
       "LCV_Return Journey                                                                155.00\n",
       "LCV_Monthly Pass                                                                 3485.00\n",
       "LCV_Commercial Vehicle Registered within the district of plaza                     50.00\n",
       "Bus/Truck_Single Journey                                                          220.00\n",
       "Bus/Truck_Return Journey                                                          330.00\n",
       "Bus/Truck_Monthly Pass                                                           7300.00\n",
       "Bus/Truck_Commercial Vehicle Registered within the district of plaza              110.00\n",
       "Upto 3 Axle Vehicle_Single Journey                                                240.00\n",
       "Upto 3 Axle Vehicle_Return Journey                                                360.00\n",
       "Upto 3 Axle Vehicle_Monthly Pass                                                 7965.00\n",
       "Upto 3 Axle Vehicle_Commercial Vehicle Registered within the district of plaza    120.00\n",
       "4 to 6 Axle_Single Journey                                                        345.00\n",
       "4 to 6 Axle_Return Journey                                                        515.00\n",
       "4 to 6 Axle_Monthly Pass                                                        11450.00\n",
       "4 to 6 Axle_Commercial Vehicle Registered within the district of plaza            170.00\n",
       "HCM/EME_Single Journey                                                            345.00\n",
       "HCM/EME_Return Journey                                                            515.00\n",
       "HCM/EME_Monthly Pass                                                            11450.00\n",
       "HCM/EME_Commercial Vehicle Registered within the district of plaza                170.00\n",
       "7 or more Axle_Single Journey                                                     420.00\n",
       "7 or more Axle_Return Journey                                                     625.00\n",
       "7 or more Axle_Monthly Pass                                                     13935.00\n",
       "7 or more Axle_Commercial Vehicle Registered within the district of plaza         210.00"
      ]
     },
     "execution_count": 295,
     "metadata": {},
     "output_type": "execute_result"
    }
   ],
   "source": [
    "toll_price_df.T"
   ]
  },
  {
   "cell_type": "markdown",
   "id": "32f080da-6c74-4603-8aa4-e405368521c7",
   "metadata": {},
   "source": [
    "# Extract Project Information Table"
   ]
  },
  {
   "cell_type": "code",
   "execution_count": 233,
   "id": "191293fb-f1a1-4004-be33-3fb5abb8ad3d",
   "metadata": {},
   "outputs": [],
   "source": [
    "project_data = []\n",
    "for row in tables[1].find_all(\"tr\"):\n",
    "    cols = row.find_all(\"td\")\n",
    "    if len(cols) == 2:\n",
    "        key = cols[0].text.strip()\n",
    "        value = cols[1].text.strip()\n",
    "        project_data.append((key, value))\n",
    "df_project_info = pd.DataFrame(project_data, columns=[\"Parameter\", \"Value\"])\n",
    "df_project_info=df_project_info.T.reset_index(drop=True)\n",
    "df_project_info.columns=df_project_info.iloc[0]\n",
    "df_project_info=df_project_info[1:].reset_index(drop=True)\n"
   ]
  },
  {
   "cell_type": "code",
   "execution_count": 234,
   "id": "6fa10a21-1519-4f0a-825c-a13e45ada22b",
   "metadata": {},
   "outputs": [
    {
     "data": {
      "text/html": [
       "<div>\n",
       "<style scoped>\n",
       "    .dataframe tbody tr th:only-of-type {\n",
       "        vertical-align: middle;\n",
       "    }\n",
       "\n",
       "    .dataframe tbody tr th {\n",
       "        vertical-align: top;\n",
       "    }\n",
       "\n",
       "    .dataframe thead th {\n",
       "        text-align: right;\n",
       "    }\n",
       "</style>\n",
       "<table border=\"1\" class=\"dataframe\">\n",
       "  <thead>\n",
       "    <tr style=\"text-align: right;\">\n",
       "      <th></th>\n",
       "      <th>Date of fee notification</th>\n",
       "      <th>Commercial Operation Date</th>\n",
       "      <th>Fee Rule</th>\n",
       "      <th>Capital Cost of Project (in Rs. Cr.)</th>\n",
       "      <th>Cumulative Toll Revenue (in Rs. Cr.)</th>\n",
       "      <th>Concessions Period</th>\n",
       "      <th>Design Capacity (PCU)</th>\n",
       "      <th>Traffic (PCU/day)</th>\n",
       "      <th>Target Traffic (PCU/day)</th>\n",
       "      <th>Name of Concessionaire / OMT Contractor</th>\n",
       "      <th>Name / Contact Details of Incharge</th>\n",
       "    </tr>\n",
       "  </thead>\n",
       "  <tbody>\n",
       "    <tr>\n",
       "      <th>0</th>\n",
       "      <td>26-Jul-2012 (Sr No. - S.O.1709(E))</td>\n",
       "      <td>01-Dec-2001</td>\n",
       "      <td>2008 as amended with transition</td>\n",
       "      <td>63.54</td>\n",
       "      <td>176.66   (With Discounting)   (For Entire Project Stretch) As on :31-Dec-2016</td>\n",
       "      <td>01.11.16 - 31.01.17</td>\n",
       "      <td>40000</td>\n",
       "      <td>52033 As on : 26-May-2017</td>\n",
       "      <td>48811 As on : 31-Dec-2017</td>\n",
       "      <td>Uday Kiran Chitturi</td>\n",
       "      <td>Srinu / 8130006277</td>\n",
       "    </tr>\n",
       "  </tbody>\n",
       "</table>\n",
       "</div>"
      ],
      "text/plain": [
       "0            Date of fee notification Commercial Operation Date  \\\n",
       "0  26-Jul-2012 (Sr No. - S.O.1709(E))               01-Dec-2001   \n",
       "\n",
       "0                         Fee Rule Capital Cost of Project (in Rs. Cr.)  \\\n",
       "0  2008 as amended with transition                                63.54   \n",
       "\n",
       "0                                           Cumulative Toll Revenue (in Rs. Cr.)  \\\n",
       "0  176.66   (With Discounting)   (For Entire Project Stretch) As on :31-Dec-2016   \n",
       "\n",
       "0   Concessions Period Design Capacity (PCU)          Traffic (PCU/day)  \\\n",
       "0  01.11.16 - 31.01.17                 40000  52033 As on : 26-May-2017   \n",
       "\n",
       "0   Target Traffic (PCU/day) Name of Concessionaire / OMT Contractor  \\\n",
       "0  48811 As on : 31-Dec-2017                     Uday Kiran Chitturi   \n",
       "\n",
       "0 Name / Contact Details of Incharge  \n",
       "0                 Srinu / 8130006277  "
      ]
     },
     "execution_count": 234,
     "metadata": {},
     "output_type": "execute_result"
    }
   ],
   "source": [
    "df_project_info"
   ]
  },
  {
   "cell_type": "code",
   "execution_count": 235,
   "id": "a2717e6d-abdd-40a8-af01-108e15eab947",
   "metadata": {},
   "outputs": [],
   "source": [
    "# df_project_info=df_project_info.T.reset_index(drop=True)\n",
    "# df_project_info.columns=df_project_info.iloc[0]\n",
    "# df_project_info=df_project_info[1:].reset_index(drop=True)\n",
    "# df_project_info"
   ]
  },
  {
   "cell_type": "code",
   "execution_count": 22,
   "id": "8e0f1d5e-5fbc-48a8-8e71-c06692af364e",
   "metadata": {},
   "outputs": [],
   "source": [
    "df_project_info = pd.read_csv('project_information.csv')"
   ]
  },
  {
   "cell_type": "code",
   "execution_count": 23,
   "id": "4178b223-6077-4ec9-8598-d23082f89a15",
   "metadata": {},
   "outputs": [
    {
     "data": {
      "text/html": [
       "<div>\n",
       "<style scoped>\n",
       "    .dataframe tbody tr th:only-of-type {\n",
       "        vertical-align: middle;\n",
       "    }\n",
       "\n",
       "    .dataframe tbody tr th {\n",
       "        vertical-align: top;\n",
       "    }\n",
       "\n",
       "    .dataframe thead th {\n",
       "        text-align: right;\n",
       "    }\n",
       "</style>\n",
       "<table border=\"1\" class=\"dataframe\">\n",
       "  <thead>\n",
       "    <tr style=\"text-align: right;\">\n",
       "      <th></th>\n",
       "      <th>Parameter</th>\n",
       "      <th>Value</th>\n",
       "    </tr>\n",
       "  </thead>\n",
       "  <tbody>\n",
       "    <tr>\n",
       "      <th>0</th>\n",
       "      <td>Date of fee notification</td>\n",
       "      <td>20-Jun-2011 (Sr No. - S.O.1423(E))</td>\n",
       "    </tr>\n",
       "    <tr>\n",
       "      <th>1</th>\n",
       "      <td>Commercial Operation Date</td>\n",
       "      <td>22-Nov-11</td>\n",
       "    </tr>\n",
       "    <tr>\n",
       "      <th>2</th>\n",
       "      <td>Fee Rule</td>\n",
       "      <td>2008</td>\n",
       "    </tr>\n",
       "    <tr>\n",
       "      <th>3</th>\n",
       "      <td>Capital Cost of Project (in Rs. Cr.)</td>\n",
       "      <td>2550</td>\n",
       "    </tr>\n",
       "    <tr>\n",
       "      <th>4</th>\n",
       "      <td>Cumulative Toll Revenue (in Rs. Cr.)</td>\n",
       "      <td>318.86 (For Entire Project Stretch) As on :31-Dec-2016</td>\n",
       "    </tr>\n",
       "    <tr>\n",
       "      <th>5</th>\n",
       "      <td>Concessions Period</td>\n",
       "      <td>18.11.2011-20.11.2041</td>\n",
       "    </tr>\n",
       "    <tr>\n",
       "      <th>6</th>\n",
       "      <td>Design Capacity (PCU)</td>\n",
       "      <td>120000</td>\n",
       "    </tr>\n",
       "    <tr>\n",
       "      <th>7</th>\n",
       "      <td>Traffic (PCU/day)</td>\n",
       "      <td>24034 As on : 31-Mar-2017</td>\n",
       "    </tr>\n",
       "    <tr>\n",
       "      <th>8</th>\n",
       "      <td>Target Traffic (PCU/day)</td>\n",
       "      <td>24769 As on : 31-Mar-2014</td>\n",
       "    </tr>\n",
       "    <tr>\n",
       "      <th>9</th>\n",
       "      <td>Name of Concessionaire / OMT Contractor</td>\n",
       "      <td>Simhapuri Expressway Limited</td>\n",
       "    </tr>\n",
       "    <tr>\n",
       "      <th>10</th>\n",
       "      <td>Name / Contact Details of Incharge</td>\n",
       "      <td>TRILOK SINGH / 8130006335</td>\n",
       "    </tr>\n",
       "  </tbody>\n",
       "</table>\n",
       "</div>"
      ],
      "text/plain": [
       "                                  Parameter  \\\n",
       "0                  Date of fee notification   \n",
       "1                 Commercial Operation Date   \n",
       "2                                  Fee Rule   \n",
       "3      Capital Cost of Project (in Rs. Cr.)   \n",
       "4      Cumulative Toll Revenue (in Rs. Cr.)   \n",
       "5                        Concessions Period   \n",
       "6                     Design Capacity (PCU)   \n",
       "7                         Traffic (PCU/day)   \n",
       "8                  Target Traffic (PCU/day)   \n",
       "9   Name of Concessionaire / OMT Contractor   \n",
       "10       Name / Contact Details of Incharge   \n",
       "\n",
       "                                                     Value  \n",
       "0                       20-Jun-2011 (Sr No. - S.O.1423(E))  \n",
       "1                                                22-Nov-11  \n",
       "2                                                     2008  \n",
       "3                                                     2550  \n",
       "4   318.86 (For Entire Project Stretch) As on :31-Dec-2016  \n",
       "5                                    18.11.2011-20.11.2041  \n",
       "6                                                   120000  \n",
       "7                                24034 As on : 31-Mar-2017  \n",
       "8                                24769 As on : 31-Mar-2014  \n",
       "9                             Simhapuri Expressway Limited  \n",
       "10                               TRILOK SINGH / 8130006335  "
      ]
     },
     "execution_count": 23,
     "metadata": {},
     "output_type": "execute_result"
    }
   ],
   "source": [
    "df_project_info"
   ]
  },
  {
   "cell_type": "code",
   "execution_count": 32,
   "id": "80b2bb70-c2d7-4d0b-8f19-860734be5450",
   "metadata": {},
   "outputs": [
    {
     "data": {
      "text/html": [
       "<div>\n",
       "<style scoped>\n",
       "    .dataframe tbody tr th:only-of-type {\n",
       "        vertical-align: middle;\n",
       "    }\n",
       "\n",
       "    .dataframe tbody tr th {\n",
       "        vertical-align: top;\n",
       "    }\n",
       "\n",
       "    .dataframe thead th {\n",
       "        text-align: right;\n",
       "    }\n",
       "</style>\n",
       "<table border=\"1\" class=\"dataframe\">\n",
       "  <thead>\n",
       "    <tr style=\"text-align: right;\">\n",
       "      <th></th>\n",
       "      <th>Sr No.</th>\n",
       "      <th>State</th>\n",
       "      <th>NH-No.</th>\n",
       "      <th>Toll Plaza Name</th>\n",
       "      <th>Toll Plaza Location</th>\n",
       "      <th>Section / Stretch</th>\n",
       "      <th>TollPlazaID</th>\n",
       "    </tr>\n",
       "  </thead>\n",
       "  <tbody>\n",
       "    <tr>\n",
       "      <th>0</th>\n",
       "      <td>1</td>\n",
       "      <td>Andhra Pradesh</td>\n",
       "      <td>16</td>\n",
       "      <td>Aganampudi</td>\n",
       "      <td>Km 728.055</td>\n",
       "      <td>Vishakhapatnam - Ankapalli [Km 2.837 to &amp;Km 395.870 to Km358.00(New Chainage From Km 700.544 to Km 740.255)]</td>\n",
       "      <td>236</td>\n",
       "    </tr>\n",
       "    <tr>\n",
       "      <th>1</th>\n",
       "      <td>2</td>\n",
       "      <td>Andhra Pradesh</td>\n",
       "      <td>7 (new 44)</td>\n",
       "      <td>Amakathadu</td>\n",
       "      <td>Km 250.700</td>\n",
       "      <td>Hyderabad Bangalore (km 211.000 to km 462.164)</td>\n",
       "      <td>258</td>\n",
       "    </tr>\n",
       "    <tr>\n",
       "      <th>2</th>\n",
       "      <td>3</td>\n",
       "      <td>Andhra Pradesh</td>\n",
       "      <td>NH-216</td>\n",
       "      <td>Annampalli</td>\n",
       "      <td>Annampalli</td>\n",
       "      <td>Gurajanapalli To pasarlapudi</td>\n",
       "      <td>5977</td>\n",
       "    </tr>\n",
       "    <tr>\n",
       "      <th>3</th>\n",
       "      <td>4</td>\n",
       "      <td>Andhra Pradesh</td>\n",
       "      <td>221</td>\n",
       "      <td>Badava</td>\n",
       "      <td>35.800</td>\n",
       "      <td>Imbrahimpatnam to AP Telangana Border</td>\n",
       "      <td>4486</td>\n",
       "    </tr>\n",
       "    <tr>\n",
       "      <th>4</th>\n",
       "      <td>5</td>\n",
       "      <td>Andhra Pradesh</td>\n",
       "      <td>NH40</td>\n",
       "      <td>Bandaplli</td>\n",
       "      <td>119.945 Bandaplli</td>\n",
       "      <td>Rayachoty Kadapa Section</td>\n",
       "      <td>5697</td>\n",
       "    </tr>\n",
       "  </tbody>\n",
       "</table>\n",
       "</div>"
      ],
      "text/plain": [
       "   Sr No.           State      NH-No. Toll Plaza Name Toll Plaza Location  \\\n",
       "0       1  Andhra Pradesh          16      Aganampudi          Km 728.055   \n",
       "1       2  Andhra Pradesh  7 (new 44)      Amakathadu          Km 250.700   \n",
       "2       3  Andhra Pradesh      NH-216      Annampalli          Annampalli   \n",
       "3       4  Andhra Pradesh         221          Badava              35.800   \n",
       "4       5  Andhra Pradesh        NH40       Bandaplli   119.945 Bandaplli   \n",
       "\n",
       "                                                                                              Section / Stretch  \\\n",
       "0  Vishakhapatnam - Ankapalli [Km 2.837 to &Km 395.870 to Km358.00(New Chainage From Km 700.544 to Km 740.255)]   \n",
       "1                                                                Hyderabad Bangalore (km 211.000 to km 462.164)   \n",
       "2                                                                                  Gurajanapalli To pasarlapudi   \n",
       "3                                                                         Imbrahimpatnam to AP Telangana Border   \n",
       "4                                                                                      Rayachoty Kadapa Section   \n",
       "\n",
       "   TollPlazaID  \n",
       "0          236  \n",
       "1          258  \n",
       "2         5977  \n",
       "3         4486  \n",
       "4         5697  "
      ]
     },
     "execution_count": 32,
     "metadata": {},
     "output_type": "execute_result"
    }
   ],
   "source": [
    "toll_plazas_df.head()"
   ]
  },
  {
   "cell_type": "code",
   "execution_count": 33,
   "id": "145a005b-0e52-4383-963d-6ff6f55bac7c",
   "metadata": {},
   "outputs": [
    {
     "data": {
      "text/plain": [
       "258"
      ]
     },
     "execution_count": 33,
     "metadata": {},
     "output_type": "execute_result"
    }
   ],
   "source": [
    "toll_plaza_id"
   ]
  },
  {
   "cell_type": "code",
   "execution_count": 36,
   "id": "9edb7636-240a-41ab-b98c-071efaf64352",
   "metadata": {},
   "outputs": [],
   "source": [
    "df_project_info =df_project_info.T"
   ]
  },
  {
   "cell_type": "code",
   "execution_count": 37,
   "id": "23650b42-3661-4d27-9a3b-9107e2efc1bb",
   "metadata": {},
   "outputs": [
    {
     "data": {
      "text/html": [
       "<div>\n",
       "<style scoped>\n",
       "    .dataframe tbody tr th:only-of-type {\n",
       "        vertical-align: middle;\n",
       "    }\n",
       "\n",
       "    .dataframe tbody tr th {\n",
       "        vertical-align: top;\n",
       "    }\n",
       "\n",
       "    .dataframe thead th {\n",
       "        text-align: right;\n",
       "    }\n",
       "</style>\n",
       "<table border=\"1\" class=\"dataframe\">\n",
       "  <thead>\n",
       "    <tr style=\"text-align: right;\">\n",
       "      <th>Parameter</th>\n",
       "      <th>Date of fee notification</th>\n",
       "      <th>Commercial Operation Date</th>\n",
       "      <th>Fee Rule</th>\n",
       "      <th>Capital Cost of Project (in Rs. Cr.)</th>\n",
       "      <th>Cumulative Toll Revenue (in Rs. Cr.)</th>\n",
       "      <th>Concessions Period</th>\n",
       "      <th>Design Capacity (PCU)</th>\n",
       "      <th>Traffic (PCU/day)</th>\n",
       "      <th>Target Traffic (PCU/day)</th>\n",
       "      <th>Name of Concessionaire / OMT Contractor</th>\n",
       "      <th>Name / Contact Details of Incharge</th>\n",
       "    </tr>\n",
       "  </thead>\n",
       "  <tbody>\n",
       "    <tr>\n",
       "      <th>0</th>\n",
       "      <td>20-Jun-2011 (Sr No. - S.O.1423(E))</td>\n",
       "      <td>22-Nov-11</td>\n",
       "      <td>2008</td>\n",
       "      <td>2550</td>\n",
       "      <td>318.86 (For Entire Project Stretch) As on :31-Dec-2016</td>\n",
       "      <td>18.11.2011-20.11.2041</td>\n",
       "      <td>120000</td>\n",
       "      <td>24034 As on : 31-Mar-2017</td>\n",
       "      <td>24769 As on : 31-Mar-2014</td>\n",
       "      <td>Simhapuri Expressway Limited</td>\n",
       "      <td>TRILOK SINGH / 8130006335</td>\n",
       "    </tr>\n",
       "  </tbody>\n",
       "</table>\n",
       "</div>"
      ],
      "text/plain": [
       "Parameter            Date of fee notification Commercial Operation Date  \\\n",
       "0          20-Jun-2011 (Sr No. - S.O.1423(E))                 22-Nov-11   \n",
       "\n",
       "Parameter Fee Rule Capital Cost of Project (in Rs. Cr.)  \\\n",
       "0             2008                                 2550   \n",
       "\n",
       "Parameter                    Cumulative Toll Revenue (in Rs. Cr.)  \\\n",
       "0          318.86 (For Entire Project Stretch) As on :31-Dec-2016   \n",
       "\n",
       "Parameter     Concessions Period Design Capacity (PCU)  \\\n",
       "0          18.11.2011-20.11.2041                120000   \n",
       "\n",
       "Parameter          Traffic (PCU/day)   Target Traffic (PCU/day)  \\\n",
       "0          24034 As on : 31-Mar-2017  24769 As on : 31-Mar-2014   \n",
       "\n",
       "Parameter Name of Concessionaire / OMT Contractor  \\\n",
       "0                    Simhapuri Expressway Limited   \n",
       "\n",
       "Parameter Name / Contact Details of Incharge  \n",
       "0                  TRILOK SINGH / 8130006335  "
      ]
     },
     "execution_count": 37,
     "metadata": {},
     "output_type": "execute_result"
    }
   ],
   "source": [
    "df_project_info.columns = df_project_info.iloc[0]  # Set first row as column names\n",
    "df_project_info = df_project_info[1:].reset_index(drop=True)  # Drop the first row and reset index\n",
    "df_project_info"
   ]
  },
  {
   "cell_type": "code",
   "execution_count": 38,
   "id": "33537100-d083-487a-b32d-d6aa299a4e8f",
   "metadata": {},
   "outputs": [
    {
     "data": {
      "text/html": [
       "<div>\n",
       "<style scoped>\n",
       "    .dataframe tbody tr th:only-of-type {\n",
       "        vertical-align: middle;\n",
       "    }\n",
       "\n",
       "    .dataframe tbody tr th {\n",
       "        vertical-align: top;\n",
       "    }\n",
       "\n",
       "    .dataframe thead th {\n",
       "        text-align: right;\n",
       "    }\n",
       "</style>\n",
       "<table border=\"1\" class=\"dataframe\">\n",
       "  <thead>\n",
       "    <tr style=\"text-align: right;\">\n",
       "      <th>Parameter</th>\n",
       "      <th>Date of fee notification</th>\n",
       "      <th>Commercial Operation Date</th>\n",
       "      <th>Fee Rule</th>\n",
       "      <th>Capital Cost of Project (in Rs. Cr.)</th>\n",
       "      <th>Cumulative Toll Revenue (in Rs. Cr.)</th>\n",
       "      <th>Concessions Period</th>\n",
       "      <th>Design Capacity (PCU)</th>\n",
       "      <th>Traffic (PCU/day)</th>\n",
       "      <th>Target Traffic (PCU/day)</th>\n",
       "      <th>Name of Concessionaire / OMT Contractor</th>\n",
       "      <th>Name / Contact Details of Incharge</th>\n",
       "      <th>TollPlazaID</th>\n",
       "    </tr>\n",
       "  </thead>\n",
       "  <tbody>\n",
       "    <tr>\n",
       "      <th>0</th>\n",
       "      <td>20-Jun-2011 (Sr No. - S.O.1423(E))</td>\n",
       "      <td>22-Nov-11</td>\n",
       "      <td>2008</td>\n",
       "      <td>2550</td>\n",
       "      <td>318.86 (For Entire Project Stretch) As on :31-Dec-2016</td>\n",
       "      <td>18.11.2011-20.11.2041</td>\n",
       "      <td>120000</td>\n",
       "      <td>24034 As on : 31-Mar-2017</td>\n",
       "      <td>24769 As on : 31-Mar-2014</td>\n",
       "      <td>Simhapuri Expressway Limited</td>\n",
       "      <td>TRILOK SINGH / 8130006335</td>\n",
       "      <td>258</td>\n",
       "    </tr>\n",
       "  </tbody>\n",
       "</table>\n",
       "</div>"
      ],
      "text/plain": [
       "Parameter            Date of fee notification Commercial Operation Date  \\\n",
       "0          20-Jun-2011 (Sr No. - S.O.1423(E))                 22-Nov-11   \n",
       "\n",
       "Parameter Fee Rule Capital Cost of Project (in Rs. Cr.)  \\\n",
       "0             2008                                 2550   \n",
       "\n",
       "Parameter                    Cumulative Toll Revenue (in Rs. Cr.)  \\\n",
       "0          318.86 (For Entire Project Stretch) As on :31-Dec-2016   \n",
       "\n",
       "Parameter     Concessions Period Design Capacity (PCU)  \\\n",
       "0          18.11.2011-20.11.2041                120000   \n",
       "\n",
       "Parameter          Traffic (PCU/day)   Target Traffic (PCU/day)  \\\n",
       "0          24034 As on : 31-Mar-2017  24769 As on : 31-Mar-2014   \n",
       "\n",
       "Parameter Name of Concessionaire / OMT Contractor  \\\n",
       "0                    Simhapuri Expressway Limited   \n",
       "\n",
       "Parameter Name / Contact Details of Incharge  TollPlazaID  \n",
       "0                  TRILOK SINGH / 8130006335          258  "
      ]
     },
     "execution_count": 38,
     "metadata": {},
     "output_type": "execute_result"
    }
   ],
   "source": [
    "df_project_info['TollPlazaID']= toll_plaza_id\n",
    "df_project_info"
   ]
  },
  {
   "cell_type": "markdown",
   "id": "5664b8ac-b067-41ad-b20e-16f155f76833",
   "metadata": {},
   "source": [
    "## Concessions"
   ]
  },
  {
   "cell_type": "code",
   "execution_count": 410,
   "id": "e13d2d2e-5168-4b75-a497-590b315cf648",
   "metadata": {},
   "outputs": [],
   "source": [
    "concession_section = soup.find(\"h2\", string=\"Concessions\")"
   ]
  },
  {
   "cell_type": "code",
   "execution_count": 413,
   "id": "c989fde4-3a92-44a6-8f4b-49bcaa1c5a40",
   "metadata": {},
   "outputs": [
    {
     "data": {
      "text/plain": [
       "<div class=\"cant-notifi\" style=\"border:1px solid #e4e4e4; width :350px;\"><h2>Concessions</h2><ul><li>Monthly pass applicable local non-commercial vehicles  Residing with in radius of 20 km  :Rs.340/-</li><li>The Concessionaire shall issue  50 or more one way tickets at a discounted rate equivalent to 2/3rd of the fee payable during the period of one month form the date of payment of fee. The amount indicated is for monthly pass for 50 one way trips. However, if any person asks more than 50 trips during a period of one month, the Concessionaire shall be required to issue such tickets at a discounted rate as above.</li></ul> </div>"
      ]
     },
     "execution_count": 413,
     "metadata": {},
     "output_type": "execute_result"
    }
   ],
   "source": [
    "concession_section.findParent()"
   ]
  },
  {
   "cell_type": "code",
   "execution_count": null,
   "id": "611464ee-39e1-402f-bf30-5b88690205a1",
   "metadata": {},
   "outputs": [],
   "source": [
    "concession_section.find_next_siblings()"
   ]
  },
  {
   "cell_type": "code",
   "execution_count": 414,
   "id": "d574194f-4d66-4da4-913f-2a9f155d43f7",
   "metadata": {},
   "outputs": [
    {
     "data": {
      "text/plain": [
       "[<ul><li>Monthly pass applicable local non-commercial vehicles  Residing with in radius of 20 km  :Rs.340/-</li><li>The Concessionaire shall issue  50 or more one way tickets at a discounted rate equivalent to 2/3rd of the fee payable during the period of one month form the date of payment of fee. The amount indicated is for monthly pass for 50 one way trips. However, if any person asks more than 50 trips during a period of one month, the Concessionaire shall be required to issue such tickets at a discounted rate as above.</li></ul>]"
      ]
     },
     "execution_count": 414,
     "metadata": {},
     "output_type": "execute_result"
    }
   ],
   "source": [
    "concession_section.find_next_siblings()"
   ]
  },
  {
   "cell_type": "code",
   "execution_count": 403,
   "id": "c0135f9e-2677-49e8-a4b1-1defe4cbc780",
   "metadata": {},
   "outputs": [
    {
     "data": {
      "text/html": [
       "<div>\n",
       "<style scoped>\n",
       "    .dataframe tbody tr th:only-of-type {\n",
       "        vertical-align: middle;\n",
       "    }\n",
       "\n",
       "    .dataframe tbody tr th {\n",
       "        vertical-align: top;\n",
       "    }\n",
       "\n",
       "    .dataframe thead th {\n",
       "        text-align: right;\n",
       "    }\n",
       "</style>\n",
       "<table border=\"1\" class=\"dataframe\">\n",
       "  <thead>\n",
       "    <tr style=\"text-align: right;\">\n",
       "      <th></th>\n",
       "      <th>Concessions</th>\n",
       "    </tr>\n",
       "  </thead>\n",
       "  <tbody>\n",
       "    <tr>\n",
       "      <th>0</th>\n",
       "      <td>Monthly pass applicable local non-commercial vehicles  Residing with in radius of 20 km  :Rs.340/-.The Concessionaire shall issue  50 or more one way tickets at a discounted rate equivalent to 2/3rd of the fee payable during the period of one month form the date of payment of fee. The amount indicated is for monthly pass for 50 one way trips. However, if any person asks more than 50 trips during a period of one month, the Concessionaire shall be required to issue such tickets at a discounted...</td>\n",
       "    </tr>\n",
       "  </tbody>\n",
       "</table>\n",
       "</div>"
      ],
      "text/plain": [
       "                                                                                                                                                                                                                                                                                                                                                                                                                                                                                                           Concessions\n",
       "0  Monthly pass applicable local non-commercial vehicles  Residing with in radius of 20 km  :Rs.340/-.The Concessionaire shall issue  50 or more one way tickets at a discounted rate equivalent to 2/3rd of the fee payable during the period of one month form the date of payment of fee. The amount indicated is for monthly pass for 50 one way trips. However, if any person asks more than 50 trips during a period of one month, the Concessionaire shall be required to issue such tickets at a discounted..."
      ]
     },
     "execution_count": 403,
     "metadata": {},
     "output_type": "execute_result"
    }
   ],
   "source": [
    "concession_section = soup.find(\"h2\", string=\"Concessions\")\n",
    "concessions = []\n",
    "if concession_section:\n",
    "    concession_list = concession_section.find_next(\"ul\").find_all(\"li\")\n",
    "    for item in concession_list:\n",
    "        concessions.append(item.text.strip())\n",
    "concessions=\".\".join(concessions)     \n",
    "df_concessions = pd.DataFrame([concessions], columns=[\"Concessions\"])\n",
    "df_concessions"
   ]
  },
  {
   "cell_type": "code",
   "execution_count": 415,
   "id": "5517eafa-e718-4eff-8e4e-4c8291f8fdd2",
   "metadata": {},
   "outputs": [],
   "source": [
    "def get_concession_table(soup):\n",
    "    # print(\"Getting Concessions table\")\n",
    "    concession_section = soup.find(\"h2\", string=\"Concessions\")\n",
    "    if concession_section:\n",
    "        try:\n",
    "            concession_table = concession_section.find_next(\"span\")\n",
    "            # concession_data=concession_table.text\n",
    "            concession_data = {'Concessions':[concession_table.text]}\n",
    "            df_concession = pd.DataFrame(concession_data)\n",
    "        except:\n",
    "            concessions = []\n",
    "            concession_list = concession_section.find_next(\"ul\").find_all(\"li\")\n",
    "            for item in concession_list:\n",
    "                concessions.append(item.text.strip())\n",
    "            concessions=\".\".join(concessions)\n",
    "            df_concession = pd.DataFrame([concessions], columns=[\"Concessions\"])\n",
    "    return df_concession"
   ]
  },
  {
   "cell_type": "code",
   "execution_count": null,
   "id": "ce4011aa-f7a0-4636-a9ac-131b711ae964",
   "metadata": {},
   "outputs": [],
   "source": []
  },
  {
   "cell_type": "code",
   "execution_count": 350,
   "id": "3f03230f-0386-4f76-a2ca-be8caaf7a8a7",
   "metadata": {},
   "outputs": [
    {
     "ename": "AttributeError",
     "evalue": "'NoneType' object has no attribute 'text'",
     "output_type": "error",
     "traceback": [
      "\u001b[1;31m---------------------------------------------------------------------------\u001b[0m",
      "\u001b[1;31mAttributeError\u001b[0m                            Traceback (most recent call last)",
      "Cell \u001b[1;32mIn[350], line 3\u001b[0m\n\u001b[0;32m      1\u001b[0m concession_section \u001b[38;5;241m=\u001b[39m soup\u001b[38;5;241m.\u001b[39mfind(\u001b[38;5;124m\"\u001b[39m\u001b[38;5;124mh2\u001b[39m\u001b[38;5;124m\"\u001b[39m, string\u001b[38;5;241m=\u001b[39m\u001b[38;5;124m\"\u001b[39m\u001b[38;5;124mConcessions\u001b[39m\u001b[38;5;124m\"\u001b[39m)\n\u001b[0;32m      2\u001b[0m concession_table \u001b[38;5;241m=\u001b[39m concession_section\u001b[38;5;241m.\u001b[39mfind_next(\u001b[38;5;124m\"\u001b[39m\u001b[38;5;124mspan\u001b[39m\u001b[38;5;124m\"\u001b[39m)\n\u001b[1;32m----> 3\u001b[0m concession_data \u001b[38;5;241m=\u001b[39m {\u001b[38;5;124m'\u001b[39m\u001b[38;5;124mConcessions\u001b[39m\u001b[38;5;124m'\u001b[39m:[concession_table\u001b[38;5;241m.\u001b[39mtext]}\n\u001b[0;32m      4\u001b[0m concession_data\n",
      "\u001b[1;31mAttributeError\u001b[0m: 'NoneType' object has no attribute 'text'"
     ]
    }
   ],
   "source": [
    "concession_section = soup.find(\"h2\", string=\"Concessions\")\n",
    "try:\n",
    "    concession_table = concession_section.find_next(\"span\")\n",
    "    concession_data = {'Concessions':[concession_table.text]}\n",
    "    concession_data\n",
    "except:\n",
    "    "
   ]
  },
  {
   "cell_type": "code",
   "execution_count": 63,
   "id": "ea0d9835-80ef-4bee-bffc-2261a4f92217",
   "metadata": {},
   "outputs": [
    {
     "data": {
      "text/html": [
       "<div>\n",
       "<style scoped>\n",
       "    .dataframe tbody tr th:only-of-type {\n",
       "        vertical-align: middle;\n",
       "    }\n",
       "\n",
       "    .dataframe tbody tr th {\n",
       "        vertical-align: top;\n",
       "    }\n",
       "\n",
       "    .dataframe thead th {\n",
       "        text-align: right;\n",
       "    }\n",
       "</style>\n",
       "<table border=\"1\" class=\"dataframe\">\n",
       "  <thead>\n",
       "    <tr style=\"text-align: right;\">\n",
       "      <th></th>\n",
       "      <th>Concessions</th>\n",
       "    </tr>\n",
       "  </thead>\n",
       "  <tbody>\n",
       "    <tr>\n",
       "      <th>0</th>\n",
       "      <td>The rates for monthly pass applicable for local non-commercial vehicle residing within a distance of 20 km from the toll plaza for the year 2024-25 shall be Rs.340/-, subject to revision every year as per the provisions of the 2008 Amended Fee Rules.</td>\n",
       "    </tr>\n",
       "  </tbody>\n",
       "</table>\n",
       "</div>"
      ],
      "text/plain": [
       "                                                                                                                                                                                                                                                  Concessions\n",
       "0  The rates for monthly pass applicable for local non-commercial vehicle residing within a distance of 20 km from the toll plaza for the year 2024-25 shall be Rs.340/-, subject to revision every year as per the provisions of the 2008 Amended Fee Rules."
      ]
     },
     "execution_count": 63,
     "metadata": {},
     "output_type": "execute_result"
    }
   ],
   "source": [
    "pd.DataFrame(concession_data)"
   ]
  },
  {
   "cell_type": "code",
   "execution_count": null,
   "id": "0571c967-be4d-4a78-92a3-0f7144e645d8",
   "metadata": {},
   "outputs": [],
   "source": [
    "def get_concession_table(soup):\n",
    "    # print(\"Getting Concessions table\")\n",
    "    concession_section = soup.find(\"h2\", string=\"Concessions\")\n",
    "    if concession_section:\n",
    "        concession_table = concession_section.find_next(\"span\")\n",
    "        # concession_data=concession_table.text\n",
    "        concession_data = {'Concessions':[concession_table.text]}\n",
    "    df_concession = pd.DataFrame(concession_data)\n",
    "    return df_concession"
   ]
  },
  {
   "cell_type": "code",
   "execution_count": null,
   "id": "fa94acd4-f239-4d9f-9b66-8b1585f27a66",
   "metadata": {},
   "outputs": [],
   "source": []
  },
  {
   "cell_type": "markdown",
   "id": "4e46d6f8-f1cb-4483-a25b-33a0694854bb",
   "metadata": {},
   "source": [
    "# Extract Facilities Available Near Toll Plaza"
   ]
  },
  {
   "cell_type": "code",
   "execution_count": 188,
   "id": "ed3d36f9-3fa3-49f7-8b31-45333c7d022e",
   "metadata": {},
   "outputs": [
    {
     "data": {
      "text/html": [
       "<div>\n",
       "<style scoped>\n",
       "    .dataframe tbody tr th:only-of-type {\n",
       "        vertical-align: middle;\n",
       "    }\n",
       "\n",
       "    .dataframe tbody tr th {\n",
       "        vertical-align: top;\n",
       "    }\n",
       "\n",
       "    .dataframe thead th {\n",
       "        text-align: right;\n",
       "    }\n",
       "</style>\n",
       "<table border=\"1\" class=\"dataframe\">\n",
       "  <thead>\n",
       "    <tr style=\"text-align: right;\">\n",
       "      <th></th>\n",
       "      <th>Rest Areas</th>\n",
       "      <th>Truck Lay byes</th>\n",
       "      <th>Static Weigh Bridge</th>\n",
       "    </tr>\n",
       "  </thead>\n",
       "  <tbody>\n",
       "    <tr>\n",
       "      <th>0</th>\n",
       "      <td>0</td>\n",
       "      <td>0</td>\n",
       "      <td>0</td>\n",
       "    </tr>\n",
       "  </tbody>\n",
       "</table>\n",
       "</div>"
      ],
      "text/plain": [
       "0 Rest Areas Truck Lay byes Static Weigh Bridge\n",
       "0          0              0                   0"
      ]
     },
     "execution_count": 188,
     "metadata": {},
     "output_type": "execute_result"
    }
   ],
   "source": [
    "facilities_section = soup.find(\"h2\", string=\"Facilities available near Toll Plaza\")\n",
    "facilities_data = []\n",
    "if facilities_section:\n",
    "    facilities_table = facilities_section.find_next(\"div\").find_all(\"table\")\n",
    "    for table in facilities_table:\n",
    "        for row in table.find_all(\"tr\"):\n",
    "            cols = row.find_all(\"td\")\n",
    "            if len(cols) == 2:\n",
    "                # key = cols[0].text.strip()\n",
    "                key=cols[0].text.replace(\":\",\"\").strip()\n",
    "                value = cols[1].text.strip()\n",
    "                facilities_data.append((key, value))\n",
    "\n",
    "df_facilities = pd.DataFrame(facilities_data, columns=[\"Facility\", \"Availability\"])\n",
    "df_facilities=df_facilities.T\n",
    "df_facilities.reset_index(drop=True, inplace=True)\n",
    "df_facilities.columns = df_facilities.iloc[0] \n",
    "df_facilities=df_facilities[1:].reset_index(drop=True)\n",
    "df_facilities\n"
   ]
  },
  {
   "cell_type": "markdown",
   "id": "d801de84-6cfc-407b-b0a1-9625d6a6a627",
   "metadata": {},
   "source": [
    "# Extract Announcements"
   ]
  },
  {
   "cell_type": "code",
   "execution_count": 195,
   "id": "474ef838-50f3-41ad-a633-6f44e27068a2",
   "metadata": {},
   "outputs": [],
   "source": [
    "announcement_section = soup.find(\"h2\", string=\"Announcement\")\n",
    "announcements = []\n",
    "if announcement_section:\n",
    "    announcement_list = announcement_section.find_next(\"ul\").find_all(\"li\")\n",
    "    for item in announcement_list:\n",
    "        announcements.append(item.text.strip())\n",
    "df_announcements = pd.DataFrame(announcements, columns=[\"Announcement\"])        "
   ]
  },
  {
   "cell_type": "code",
   "execution_count": 196,
   "id": "5e0000ba-356b-4589-bd94-41a9f20f0248",
   "metadata": {},
   "outputs": [
    {
     "data": {
      "text/html": [
       "<div>\n",
       "<style scoped>\n",
       "    .dataframe tbody tr th:only-of-type {\n",
       "        vertical-align: middle;\n",
       "    }\n",
       "\n",
       "    .dataframe tbody tr th {\n",
       "        vertical-align: top;\n",
       "    }\n",
       "\n",
       "    .dataframe thead th {\n",
       "        text-align: right;\n",
       "    }\n",
       "</style>\n",
       "<table border=\"1\" class=\"dataframe\">\n",
       "  <thead>\n",
       "    <tr style=\"text-align: right;\">\n",
       "      <th></th>\n",
       "      <th>Announcement</th>\n",
       "    </tr>\n",
       "  </thead>\n",
       "  <tbody>\n",
       "    <tr>\n",
       "      <th>0</th>\n",
       "      <td>Toll rates due for revision w.e.f : 31 Mar 2025</td>\n",
       "    </tr>\n",
       "  </tbody>\n",
       "</table>\n",
       "</div>"
      ],
      "text/plain": [
       "                                      Announcement\n",
       "0  Toll rates due for revision w.e.f : 31 Mar 2025"
      ]
     },
     "execution_count": 196,
     "metadata": {},
     "output_type": "execute_result"
    }
   ],
   "source": [
    "df_announcements"
   ]
  },
  {
   "cell_type": "markdown",
   "id": "77541b35-9551-43d0-a102-0abff4546dcf",
   "metadata": {},
   "source": [
    "# Extract Important Information"
   ]
  },
  {
   "cell_type": "code",
   "execution_count": 209,
   "id": "5d947544-0c91-4a1c-8be1-af43c9551c36",
   "metadata": {},
   "outputs": [
    {
     "data": {
      "text/html": [
       "<div>\n",
       "<style scoped>\n",
       "    .dataframe tbody tr th:only-of-type {\n",
       "        vertical-align: middle;\n",
       "    }\n",
       "\n",
       "    .dataframe tbody tr th {\n",
       "        vertical-align: top;\n",
       "    }\n",
       "\n",
       "    .dataframe thead th {\n",
       "        text-align: right;\n",
       "    }\n",
       "</style>\n",
       "<table border=\"1\" class=\"dataframe\">\n",
       "  <thead>\n",
       "    <tr style=\"text-align: right;\">\n",
       "      <th></th>\n",
       "      <th>Helpline No.</th>\n",
       "      <th>Emergency Services</th>\n",
       "      <th>Nearest Police Station</th>\n",
       "      <th>Highway Administrator (Project Director)</th>\n",
       "      <th>Project Implementation Unit(PIU)</th>\n",
       "      <th>Regional Office(RO)</th>\n",
       "      <th>Representative of Consultant</th>\n",
       "      <th>Representative of Concessionaire</th>\n",
       "      <th>Nearest Hospital(s)</th>\n",
       "    </tr>\n",
       "  </thead>\n",
       "  <tbody>\n",
       "    <tr>\n",
       "      <th>0</th>\n",
       "      <td>Crane-7993084799, Ambulance -7416511921, Route Patrol-9391188526</td>\n",
       "      <td>9</td>\n",
       "      <td>/</td>\n",
       "      <td>Sh. Prabhat Ranjan / 8130006265</td>\n",
       "      <td>PIU Vishakapatnam</td>\n",
       "      <td>RO Vijaywada</td>\n",
       "      <td></td>\n",
       "      <td>Mr Ravindra / 7659859650</td>\n",
       "      <td>1)Sri Satya Sai Hospital Beside SBI Aganampudi Visakhapatnam, Andhra Pradesh Ph.: 098486 39329, 2)RK Hospital Gajuwaka Visakhapatnam, Andhra Pradesh 530044</td>\n",
       "    </tr>\n",
       "  </tbody>\n",
       "</table>\n",
       "</div>"
      ],
      "text/plain": [
       "0                                                      Helpline No.  \\\n",
       "0  Crane-7993084799, Ambulance -7416511921, Route Patrol-9391188526   \n",
       "\n",
       "0 Emergency Services Nearest Police Station  \\\n",
       "0                  9                      /   \n",
       "\n",
       "0 Highway Administrator (Project Director) Project Implementation Unit(PIU)  \\\n",
       "0          Sh. Prabhat Ranjan / 8130006265                PIU Vishakapatnam   \n",
       "\n",
       "0 Regional Office(RO) Representative of Consultant  \\\n",
       "0        RO Vijaywada                                \n",
       "\n",
       "0 Representative of Concessionaire  \\\n",
       "0         Mr Ravindra / 7659859650   \n",
       "\n",
       "0                                                                                                                                          Nearest Hospital(s)  \n",
       "0  1)Sri Satya Sai Hospital Beside SBI Aganampudi Visakhapatnam, Andhra Pradesh Ph.: 098486 39329, 2)RK Hospital Gajuwaka Visakhapatnam, Andhra Pradesh 530044  "
      ]
     },
     "execution_count": 209,
     "metadata": {},
     "output_type": "execute_result"
    }
   ],
   "source": [
    "important_info_section = soup.find(\"h2\", string=\"Important Information\")\n",
    "important_info_data = []\n",
    "if important_info_section:\n",
    "    info_table = important_info_section.find_next(\"table\")\n",
    "    for row in info_table.find_all(\"tr\"):\n",
    "        cols = row.find_all(\"td\")\n",
    "        if len(cols) == 2:\n",
    "            key=cols[0].text.replace(\":\",\"\").strip()\n",
    "            value = cols[1].text.strip()\n",
    "            important_info_data.append((key, value))\n",
    "df_important_info = pd.DataFrame(important_info_data, columns=[\"Category\", \"Details\"])\n",
    "df_important_info=df_important_info.T.reset_index(drop=True)\n",
    "df_important_info.columns=df_important_info.iloc[0]\n",
    "df_important_info=df_important_info.iloc[1:]\n",
    "df_important_info.reset_index(drop=True,inplace=True)\n",
    "df_important_info"
   ]
  },
  {
   "cell_type": "markdown",
   "id": "833092a3-9fc9-4049-bf99-0a0210779315",
   "metadata": {},
   "source": [
    "# Additional information "
   ]
  },
  {
   "cell_type": "code",
   "execution_count": 14,
   "id": "7623ee04-e5cb-458e-a971-fa187fdb85da",
   "metadata": {
    "scrolled": true
   },
   "outputs": [
    {
     "ename": "NameError",
     "evalue": "name 'soup' is not defined",
     "output_type": "error",
     "traceback": [
      "\u001b[1;31m---------------------------------------------------------------------------\u001b[0m",
      "\u001b[1;31mNameError\u001b[0m                                 Traceback (most recent call last)",
      "Cell \u001b[1;32mIn[14], line 1\u001b[0m\n\u001b[1;32m----> 1\u001b[0m p_tags \u001b[38;5;241m=\u001b[39m [p\u001b[38;5;241m.\u001b[39mget_text(\u001b[38;5;124m\"\u001b[39m\u001b[38;5;124m \u001b[39m\u001b[38;5;124m\"\u001b[39m, strip\u001b[38;5;241m=\u001b[39m\u001b[38;5;28;01mTrue\u001b[39;00m) \u001b[38;5;28;01mfor\u001b[39;00m p \u001b[38;5;129;01min\u001b[39;00m soup\u001b[38;5;241m.\u001b[39mfind_all(\u001b[38;5;124m\"\u001b[39m\u001b[38;5;124mp\u001b[39m\u001b[38;5;124m\"\u001b[39m)]\n\u001b[0;32m      2\u001b[0m data \u001b[38;5;241m=\u001b[39m {\u001b[38;5;124m\"\u001b[39m\u001b[38;5;124mStretch\u001b[39m\u001b[38;5;124m\"\u001b[39m: [], \u001b[38;5;124m\"\u001b[39m\u001b[38;5;124mTollable Length\u001b[39m\u001b[38;5;124m\"\u001b[39m: [], \u001b[38;5;124m\"\u001b[39m\u001b[38;5;124mFee Effective Date\u001b[39m\u001b[38;5;124m\"\u001b[39m: [], \u001b[38;5;124m\"\u001b[39m\u001b[38;5;124mDue Date of Toll Revision\u001b[39m\u001b[38;5;124m\"\u001b[39m: []}\n",
      "\u001b[1;31mNameError\u001b[0m: name 'soup' is not defined"
     ]
    }
   ],
   "source": [
    "p_tags = [p.get_text(\" \", strip=True) for p in soup.find_all(\"p\")]\n",
    "data = {\"Stretch\": [], \"Tollable Length\": [], \"Fee Effective Date\": [], \"Due Date of Toll Revision\": []}"
   ]
  },
  {
   "cell_type": "code",
   "execution_count": 200,
   "id": "e2619234-0d41-46d6-a28f-26547f12b0c0",
   "metadata": {},
   "outputs": [],
   "source": [
    "# Extract required details\n",
    "for text in p_tags:\n",
    "    if \"Stretch :\" in text:\n",
    "        data[\"Stretch\"].append(text.split(\"Stretch :\")[1].split(\"Tollable Length :\")[0].strip())\n",
    "    if \"Tollable Length :\" in text:\n",
    "        data[\"Tollable Length\"].append(text.split(\"Tollable Length :\")[1].strip())\n",
    "    if \"Fee Effective Date :\" in text:\n",
    "        parts = text.split(\"/\")\n",
    "        data[\"Fee Effective Date\"].append(parts[0].split(\"Fee Effective Date :\")[1].strip())\n",
    "        data[\"Due Date of Toll Revision\"].append(parts[1].split(\"Due date of toll revision :\")[1].strip())\n",
    "# Convert to DataFrame\n",
    "add_info_df = pd.DataFrame(data)"
   ]
  },
  {
   "cell_type": "code",
   "execution_count": 201,
   "id": "ed740ce8-993a-473d-a5d3-67cb38bac548",
   "metadata": {},
   "outputs": [
    {
     "data": {
      "text/html": [
       "<div>\n",
       "<style scoped>\n",
       "    .dataframe tbody tr th:only-of-type {\n",
       "        vertical-align: middle;\n",
       "    }\n",
       "\n",
       "    .dataframe tbody tr th {\n",
       "        vertical-align: top;\n",
       "    }\n",
       "\n",
       "    .dataframe thead th {\n",
       "        text-align: right;\n",
       "    }\n",
       "</style>\n",
       "<table border=\"1\" class=\"dataframe\">\n",
       "  <thead>\n",
       "    <tr style=\"text-align: right;\">\n",
       "      <th></th>\n",
       "      <th>Stretch</th>\n",
       "      <th>Tollable Length</th>\n",
       "      <th>Fee Effective Date</th>\n",
       "      <th>Due Date of Toll Revision</th>\n",
       "    </tr>\n",
       "  </thead>\n",
       "  <tbody>\n",
       "    <tr>\n",
       "      <th>0</th>\n",
       "      <td>Chilkaluripet - Nellore (Km 1182.802 - Km 1366.547)</td>\n",
       "      <td>70.945 Km(s)</td>\n",
       "      <td>03-Jun-2024</td>\n",
       "      <td>31-Mar-2025</td>\n",
       "    </tr>\n",
       "  </tbody>\n",
       "</table>\n",
       "</div>"
      ],
      "text/plain": [
       "                                               Stretch Tollable Length  \\\n",
       "0  Chilkaluripet - Nellore (Km 1182.802 - Km 1366.547)    70.945 Km(s)   \n",
       "\n",
       "  Fee Effective Date Due Date of Toll Revision  \n",
       "0        03-Jun-2024               31-Mar-2025  "
      ]
     },
     "execution_count": 201,
     "metadata": {},
     "output_type": "execute_result"
    }
   ],
   "source": [
    "add_info_df"
   ]
  },
  {
   "cell_type": "code",
   "execution_count": null,
   "id": "89c845e8-e53e-4a5f-aa1c-99e7b991b856",
   "metadata": {},
   "outputs": [],
   "source": []
  },
  {
   "cell_type": "code",
   "execution_count": null,
   "id": "1fbf926f-933d-4971-a7fd-485e0642b224",
   "metadata": {},
   "outputs": [],
   "source": []
  },
  {
   "cell_type": "code",
   "execution_count": null,
   "id": "146491da-e266-4868-b085-63137458e2e5",
   "metadata": {},
   "outputs": [],
   "source": []
  },
  {
   "cell_type": "code",
   "execution_count": null,
   "id": "350aa690-16fa-471a-b7bc-b99096e2e28b",
   "metadata": {},
   "outputs": [],
   "source": []
  },
  {
   "cell_type": "code",
   "execution_count": null,
   "id": "3e9428e1-2c0d-4c8d-afa7-17fb41d6e4ac",
   "metadata": {},
   "outputs": [],
   "source": []
  },
  {
   "cell_type": "code",
   "execution_count": null,
   "id": "ae8cef22-70c0-4222-9383-b67de67dab4a",
   "metadata": {},
   "outputs": [],
   "source": []
  }
 ],
 "metadata": {
  "kernelspec": {
   "display_name": "Python 3 (ipykernel)",
   "language": "python",
   "name": "python3"
  },
  "language_info": {
   "codemirror_mode": {
    "name": "ipython",
    "version": 3
   },
   "file_extension": ".py",
   "mimetype": "text/x-python",
   "name": "python",
   "nbconvert_exporter": "python",
   "pygments_lexer": "ipython3",
   "version": "3.11.10"
  }
 },
 "nbformat": 4,
 "nbformat_minor": 5
}
