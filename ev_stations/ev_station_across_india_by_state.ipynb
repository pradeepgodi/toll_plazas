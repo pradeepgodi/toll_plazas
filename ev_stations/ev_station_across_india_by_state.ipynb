{
 "cells": [
  {
   "cell_type": "code",
   "execution_count": 1,
   "id": "8c6a0743-9c1d-46a2-8ad4-5e244877f67d",
   "metadata": {},
   "outputs": [],
   "source": [
    "import requests\n",
    "import csv\n",
    "import time\n",
    "import os\n",
    "from datetime import datetime\n",
    "from typing import Dict\n",
    "from dotenv import load_dotenv"
   ]
  },
  {
   "cell_type": "code",
   "execution_count": 41,
   "id": "89e98026-c436-4310-baf6-8bea7e1e239b",
   "metadata": {},
   "outputs": [
    {
     "data": {
      "text/plain": [
       "'2025_06_03_20_40_59'"
      ]
     },
     "execution_count": 41,
     "metadata": {},
     "output_type": "execute_result"
    }
   ],
   "source": [
    "date_suffix=datetime.now().strftime(\"%Y_%m_%d_%H_%M_%S\")\n",
    "date_suffix"
   ]
  },
  {
   "cell_type": "code",
   "execution_count": 2,
   "id": "a04e7166-e2f3-4e11-b8ac-1c14640b2976",
   "metadata": {},
   "outputs": [],
   "source": [
    "# Load .env file from a specific path\n",
    "dotenv_path = \"E:/tolls/.env\"  # <-- Replace with the actual path\n",
    "load_dotenv(dotenv_path)\n",
    "\n",
    "API_KEY = os.getenv(\"GOOGLE_API_KEY\")\n",
    "if not API_KEY:\n",
    "    raise EnvironmentError(\"GOOGLE_API_KEY not set in the .env file.\")"
   ]
  },
  {
   "cell_type": "code",
   "execution_count": 3,
   "id": "b2639945-7726-4516-b89b-7f3feae0ccb8",
   "metadata": {},
   "outputs": [],
   "source": [
    "# Google Places API configuration\n",
    "BASE_URL = \"https://maps.googleapis.com/maps/api/place/nearbysearch/json\""
   ]
  },
  {
   "cell_type": "code",
   "execution_count": 19,
   "id": "1b460690-5585-4aff-bbea-33f385f31101",
   "metadata": {},
   "outputs": [],
   "source": [
    "# Keyword to search\n",
    "KEYWORD = \"EV charging point\"  # Change as needed"
   ]
  },
  {
   "cell_type": "code",
   "execution_count": 48,
   "id": "27316ba9-7878-42f5-b37c-0ca29555d9ff",
   "metadata": {},
   "outputs": [],
   "source": [
    "# f\"{KEYWORD.replace(' ','_')}_nearby_{date_suffix}.csv\""
   ]
  },
  {
   "cell_type": "code",
   "execution_count": 49,
   "id": "e3509681-fbbb-4f6b-b9e1-8a812b55adb2",
   "metadata": {},
   "outputs": [],
   "source": [
    "# f\"{KEYWORD.replace(' ','_')}_log_{date_suffix}.csv\""
   ]
  },
  {
   "cell_type": "code",
   "execution_count": 4,
   "id": "aa9ed290-1a7e-4a5c-b47e-86d340c50608",
   "metadata": {},
   "outputs": [],
   "source": [
    "# Output files\n",
    "OUTPUT_CSV = f\"{KEYWORD.replace(' ','_')}_nearby_{date_suffix}.csv\"\n",
    "LOG_FILE = f\"{KEYWORD.replace(' ','_')}_log_{date_suffix}.csv\""
   ]
  },
  {
   "cell_type": "code",
   "execution_count": 6,
   "id": "ceec0a61-311d-4c84-9ad1-fd1e2a95592f",
   "metadata": {},
   "outputs": [],
   "source": [
    "# API Call Counter\n",
    "api_call_count = 0"
   ]
  },
  {
   "cell_type": "code",
   "execution_count": 7,
   "id": "59034422-7b94-4ea2-afb2-e4c0d042282e",
   "metadata": {},
   "outputs": [],
   "source": [
    "# CSV Headers\n",
    "CSV_HEADERS = [\"place_id\", \"name\", \"formatted_address\", \"latitude\", \"longitude\"]"
   ]
  },
  {
   "cell_type": "code",
   "execution_count": 8,
   "id": "cf7cb06e-4d1b-41ba-ad5a-6e9347e6b161",
   "metadata": {},
   "outputs": [],
   "source": [
    "# Ensure CSV file exists with headers\n",
    "def init_csv(file_path: str):\n",
    "    if not os.path.exists(file_path):\n",
    "        with open(file_path, mode='w', newline='', encoding='utf-8') as f:\n",
    "            writer = csv.DictWriter(f, fieldnames=CSV_HEADERS)\n",
    "            writer.writeheader()"
   ]
  },
  {
   "cell_type": "code",
   "execution_count": 9,
   "id": "71d5b721-ae95-4d6d-af54-4d477a921547",
   "metadata": {},
   "outputs": [],
   "source": [
    "# Write log entry\n",
    "def write_log(message: str):\n",
    "    with open(LOG_FILE, mode='a', encoding='utf-8') as f:\n",
    "        f.write(f\"{datetime.now().isoformat()} - {message}\\n\")"
   ]
  },
  {
   "cell_type": "code",
   "execution_count": 10,
   "id": "f56fa1c9-16dc-446f-9062-eac7375be1db",
   "metadata": {},
   "outputs": [],
   "source": [
    "# Save place record\n",
    "existing_place_ids = set()\n",
    "def save_to_csv(record: Dict):\n",
    "    if record[\"place_id\"] in existing_place_ids:\n",
    "        return\n",
    "    existing_place_ids.add(record[\"place_id\"])\n",
    "    with open(OUTPUT_CSV, mode='a', newline='', encoding='utf-8') as f:\n",
    "        writer = csv.DictWriter(f, fieldnames=CSV_HEADERS)\n",
    "        writer.writerow(record)"
   ]
  },
  {
   "cell_type": "code",
   "execution_count": 11,
   "id": "3173bbb2-0b62-4248-a93d-c9ad0ef8e5ca",
   "metadata": {},
   "outputs": [],
   "source": [
    "# Avoid duplicate API calls\n",
    "called_coords = set()\n",
    "def is_duplicate_call(lat: float, lng: float) -> bool:\n",
    "    key = (round(lat, 4), round(lng, 4))\n",
    "    if key in called_coords:\n",
    "        return True\n",
    "    called_coords.add(key)\n",
    "    return False"
   ]
  },
  {
   "cell_type": "code",
   "execution_count": 12,
   "id": "137617c8-5286-4ace-8b62-973dbab380dd",
   "metadata": {},
   "outputs": [],
   "source": [
    "# Fetch places for a point\n",
    "def fetch_places(lat: float, lng: float):\n",
    "    global api_call_count\n",
    "    if is_duplicate_call(lat, lng):\n",
    "        return\n",
    "\n",
    "    write_log(f\"API call #{api_call_count + 1} at lat: {lat}, lng: {lng}, keyword: {KEYWORD}\")\n",
    "\n",
    "    next_page_token = None\n",
    "    while True:\n",
    "        params = {\n",
    "            \"location\": f\"{lat},{lng}\",\n",
    "            \"radius\": 50000,\n",
    "            \"keyword\": KEYWORD,\n",
    "            \"key\": API_KEY\n",
    "        }\n",
    "        if next_page_token:\n",
    "            params['pagetoken'] = next_page_token\n",
    "            time.sleep(2)\n",
    "\n",
    "        response = requests.get(BASE_URL, params=params)\n",
    "        api_call_count += 1\n",
    "        data = response.json()\n",
    "        for result in data.get(\"results\", []):\n",
    "            record = {\n",
    "                \"place_id\": result.get(\"place_id\", \"\"),\n",
    "                \"name\": result.get(\"name\", \"\"),\n",
    "                \"formatted_address\": result.get(\"vicinity\", \"\"),\n",
    "                \"latitude\": result.get(\"geometry\", {}).get(\"location\", {}).get(\"lat\", 0),\n",
    "                \"longitude\": result.get(\"geometry\", {}).get(\"location\", {}).get(\"lng\", 0)\n",
    "            }\n",
    "            save_to_csv(record)\n",
    "\n",
    "        next_page_token = data.get(\"next_page_token\")\n",
    "        if not next_page_token:\n",
    "            break"
   ]
  },
  {
   "cell_type": "code",
   "execution_count": 13,
   "id": "1e7ee37a-999c-4471-9766-f68eceb7aeac",
   "metadata": {},
   "outputs": [],
   "source": [
    "# Generate lat/lng grid for a state\n",
    "def generate_grid_for_state(center_lat, center_lng, delta=2.0, step=1.0):\n",
    "    points = []\n",
    "    min_lat = center_lat - delta\n",
    "    max_lat = center_lat + delta\n",
    "    min_lng = center_lng - delta\n",
    "    max_lng = center_lng + delta\n",
    "\n",
    "    lat = min_lat\n",
    "    while lat <= max_lat:\n",
    "        lng = min_lng\n",
    "        while lng <= max_lng:\n",
    "            points.append((lat, lng))\n",
    "            lng += step\n",
    "        lat += step\n",
    "    return points"
   ]
  },
  {
   "cell_type": "code",
   "execution_count": 14,
   "id": "329fc2e9-ebbc-48d3-b6dd-ae366bc400cb",
   "metadata": {},
   "outputs": [],
   "source": [
    "# Main driver for a single state\n",
    "def main_for_state(state_name: str, center_lat: float, center_lng: float):\n",
    "    global api_call_count\n",
    "    init_csv(OUTPUT_CSV)\n",
    "    write_log(f\"Starting data collection for {state_name}\")\n",
    "    points = generate_grid_for_state(center_lat, center_lng)\n",
    "    for lat, lng in points:\n",
    "        fetch_places(lat, lng)\n",
    "        time.sleep(1)\n",
    "    \n",
    "    cost_estimate = round(api_call_count / 1000 * 32.0, 2)\n",
    "    write_log(f\"Finished data collection for {state_name}\")\n",
    "    write_log(f\"Total API calls: {api_call_count}\")\n",
    "    write_log(f\"Estimated API cost (USD): ${cost_estimate}\")"
   ]
  },
  {
   "cell_type": "code",
   "execution_count": 29,
   "id": "34c9ae3b-151e-4a64-871f-4239519dac17",
   "metadata": {},
   "outputs": [],
   "source": [
    "indian_states_and_uts = [\n",
    "    # (\"Andhra Pradesh\", 15.9129, 79.7400),\n",
    "    # (\"Arunachal Pradesh\", 28.2180, 94.7278),\n",
    "    (\"Assam\", 26.2006, 92.9376),\n",
    "    (\"Bihar\", 25.0961, 85.3131),\n",
    "    (\"Chhattisgarh\", 21.2787, 81.8661),\n",
    "    (\"Goa\", 15.2993, 74.1240),\n",
    "    (\"Gujarat\", 22.2587, 71.1924),\n",
    "    (\"Haryana\", 29.0588, 76.0856),\n",
    "    (\"Himachal Pradesh\", 31.1048, 77.1734),\n",
    "    (\"Jharkhand\", 23.6102, 85.2799),\n",
    "    # (\"Karnataka\", 15.3173, 75.7139),\n",
    "    (\"Kerala\", 10.8505, 76.2711),\n",
    "    (\"Madhya Pradesh\", 22.9734, 78.6569),\n",
    "    (\"Maharashtra\", 19.7515, 75.7139),\n",
    "    (\"Manipur\", 24.6637, 93.9063),\n",
    "    (\"Meghalaya\", 25.4670, 91.3662),\n",
    "    (\"Mizoram\", 23.1645, 92.9376),\n",
    "    (\"Nagaland\", 26.1584, 94.5624),\n",
    "    (\"Odisha\", 20.9517, 85.0985),\n",
    "    (\"Punjab\", 31.1471, 75.3412),\n",
    "    (\"Rajasthan\", 27.0238, 74.2179),\n",
    "    (\"Sikkim\", 27.5330, 88.5122),\n",
    "    (\"Tamil Nadu\", 11.1271, 78.6569),\n",
    "    (\"Telangana\", 18.1124, 79.0193),\n",
    "    (\"Tripura\", 23.9408, 91.9882),\n",
    "    (\"Uttar Pradesh\", 26.8467, 80.9462),\n",
    "    (\"Uttarakhand\", 30.0668, 79.0193),\n",
    "    (\"West Bengal\", 22.9868, 87.8550),\n",
    "\n",
    "    # Union Territories\n",
    "    (\"Andaman and Nicobar Islands\", 11.7401, 92.6586),\n",
    "    (\"Chandigarh\", 30.7333, 76.7794),\n",
    "    (\"Dadra and Nagar Haveli and Daman and Diu\", 20.1809, 73.0169),\n",
    "    (\"Delhi\", 28.6139, 77.2090),\n",
    "    (\"Jammu and Kashmir\", 33.7782, 76.5762),\n",
    "    (\"Ladakh\", 34.2268, 77.5619),\n",
    "    (\"Lakshadweep\", 10.3280, 72.7846),\n",
    "    (\"Puducherry\", 11.9416, 79.8083)\n",
    "]"
   ]
  },
  {
   "cell_type": "code",
   "execution_count": 30,
   "id": "f4528566-e57b-465f-ad93-51cafb6397eb",
   "metadata": {},
   "outputs": [],
   "source": [
    "# for state in indian_states_and_uts:\n",
    "#     print(state,type(state))"
   ]
  },
  {
   "cell_type": "code",
   "execution_count": 31,
   "id": "f957fa9a-37c6-4d1b-bd52-9cde43f02349",
   "metadata": {},
   "outputs": [
    {
     "name": "stdout",
     "output_type": "stream",
     "text": [
      "('Assam', 26.2006, 92.9376)\n",
      "('Bihar', 25.0961, 85.3131)\n",
      "('Chhattisgarh', 21.2787, 81.8661)\n",
      "('Goa', 15.2993, 74.124)\n",
      "('Gujarat', 22.2587, 71.1924)\n",
      "('Haryana', 29.0588, 76.0856)\n",
      "('Himachal Pradesh', 31.1048, 77.1734)\n",
      "('Jharkhand', 23.6102, 85.2799)\n",
      "('Kerala', 10.8505, 76.2711)\n",
      "('Madhya Pradesh', 22.9734, 78.6569)\n",
      "('Maharashtra', 19.7515, 75.7139)\n",
      "('Manipur', 24.6637, 93.9063)\n",
      "('Meghalaya', 25.467, 91.3662)\n",
      "('Mizoram', 23.1645, 92.9376)\n",
      "('Nagaland', 26.1584, 94.5624)\n",
      "('Odisha', 20.9517, 85.0985)\n",
      "('Punjab', 31.1471, 75.3412)\n",
      "('Rajasthan', 27.0238, 74.2179)\n",
      "('Sikkim', 27.533, 88.5122)\n",
      "('Tamil Nadu', 11.1271, 78.6569)\n",
      "('Telangana', 18.1124, 79.0193)\n",
      "('Tripura', 23.9408, 91.9882)\n",
      "('Uttar Pradesh', 26.8467, 80.9462)\n",
      "('Uttarakhand', 30.0668, 79.0193)\n",
      "('West Bengal', 22.9868, 87.855)\n",
      "('Andaman and Nicobar Islands', 11.7401, 92.6586)\n",
      "('Chandigarh', 30.7333, 76.7794)\n",
      "('Dadra and Nagar Haveli and Daman and Diu', 20.1809, 73.0169)\n",
      "('Delhi', 28.6139, 77.209)\n",
      "('Jammu and Kashmir', 33.7782, 76.5762)\n",
      "('Ladakh', 34.2268, 77.5619)\n",
      "('Lakshadweep', 10.328, 72.7846)\n",
      "('Puducherry', 11.9416, 79.8083)\n"
     ]
    }
   ],
   "source": [
    "if __name__ == \"__main__\":\n",
    "    for state in indian_states_and_uts:\n",
    "        print(state)\n",
    "        main_for_state(state[0],state[1],state[2])\n"
   ]
  },
  {
   "cell_type": "code",
   "execution_count": null,
   "id": "cd3d781b-bfa5-49dc-9fd0-9a0334a8acd9",
   "metadata": {},
   "outputs": [],
   "source": []
  }
 ],
 "metadata": {
  "kernelspec": {
   "display_name": "Python 3 (ipykernel)",
   "language": "python",
   "name": "python3"
  },
  "language_info": {
   "codemirror_mode": {
    "name": "ipython",
    "version": 3
   },
   "file_extension": ".py",
   "mimetype": "text/x-python",
   "name": "python",
   "nbconvert_exporter": "python",
   "pygments_lexer": "ipython3",
   "version": "3.11.10"
  }
 },
 "nbformat": 4,
 "nbformat_minor": 5
}
