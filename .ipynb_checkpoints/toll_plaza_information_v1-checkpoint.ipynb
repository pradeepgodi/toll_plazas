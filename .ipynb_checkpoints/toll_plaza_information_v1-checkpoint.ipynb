{
 "cells": [
  {
   "cell_type": "code",
   "execution_count": 1,
   "id": "a23ee307",
   "metadata": {},
   "outputs": [],
   "source": [
    "import pandas as pd\n",
    "from selenium import webdriver\n",
    "from selenium.webdriver.common.by import By\n",
    "from bs4 import BeautifulSoup\n",
    "import requests\n",
    "import logging\n",
    "import datetime"
   ]
  },
  {
   "cell_type": "code",
   "execution_count": 2,
   "id": "3aa2fcd6-d72a-4431-97fc-bac7406f212a",
   "metadata": {},
   "outputs": [],
   "source": [
    "start_time = datetime.datetime.now()"
   ]
  },
  {
   "cell_type": "code",
   "execution_count": 3,
   "id": "44a074aa-c4c6-4b11-8b07-c724b8adf97d",
   "metadata": {},
   "outputs": [],
   "source": [
    "TOLL_PLAZAS_INPUT='tool_plazas.csv' # this file contains list of toll plazas generated from the previous script along with lat and long\n",
    "FINAL_TOLL_FILE='toll_plaza_data.csv'"
   ]
  },
  {
   "cell_type": "code",
   "execution_count": 4,
   "id": "df120ef1-0d99-444d-a58b-c9dd980f6a87",
   "metadata": {},
   "outputs": [],
   "source": [
    "# Configure logging\n",
    "logging.basicConfig(level=logging.INFO)\n",
    "logging.basicConfig(format=\"%(asctime)s - %(levelname)s - %(message)s\",datefmt=\"%Y-%m-%d %H:%M:%S\",force=True)"
   ]
  },
  {
   "cell_type": "code",
   "execution_count": 5,
   "id": "04a2dc0a-4a87-4d71-869e-e751d32ce583",
   "metadata": {},
   "outputs": [],
   "source": [
    "pd.options.display.max_colwidth=500"
   ]
  },
  {
   "cell_type": "code",
   "execution_count": 6,
   "id": "a3a59ef7-38ea-457d-bf09-5c87c85c74df",
   "metadata": {},
   "outputs": [],
   "source": [
    "base_url=\"https://tis.nhai.gov.in/TollInformation.aspx?TollPlazaID=\""
   ]
  },
  {
   "cell_type": "code",
   "execution_count": 7,
   "id": "4fc65cf0-2ab3-42f5-adcb-28478be91975",
   "metadata": {},
   "outputs": [],
   "source": [
    "toll_plazas_df=pd.read_csv(TOLL_PLAZAS_INPUT,encoding='cp1252')"
   ]
  },
  {
   "cell_type": "code",
   "execution_count": 8,
   "id": "3748cc9f-4a03-4d66-a322-ee1ccba6a153",
   "metadata": {},
   "outputs": [],
   "source": [
    "options = webdriver.ChromeOptions()\n",
    "options.add_argument(\"--headless\")  # Run in headless mode\n",
    "driver = webdriver.Chrome(options=options)\n",
    "driver.implicitly_wait(10)"
   ]
  },
  {
   "cell_type": "code",
   "execution_count": 9,
   "id": "db61244e-b9bc-4808-9f3f-edb7c31bdd2b",
   "metadata": {},
   "outputs": [],
   "source": [
    "# toll_plazas_df.head()"
   ]
  },
  {
   "cell_type": "code",
   "execution_count": 10,
   "id": "a9455c66-f3f9-489f-9841-0673473e9d79",
   "metadata": {},
   "outputs": [],
   "source": [
    "# toll_plazas_df.info()"
   ]
  },
  {
   "cell_type": "code",
   "execution_count": 11,
   "id": "881f747c-4ecd-48d3-9ba5-5aff7f720fff",
   "metadata": {},
   "outputs": [
    {
     "data": {
      "text/plain": [
       "1051"
      ]
     },
     "execution_count": 11,
     "metadata": {},
     "output_type": "execute_result"
    }
   ],
   "source": [
    "toll_plazas_df.shape[0]"
   ]
  },
  {
   "cell_type": "markdown",
   "id": "96630eee-2f0b-4ae2-b588-b81c15c430e2",
   "metadata": {},
   "source": [
    "# Below data needs to be collected for each of the toll plaza"
   ]
  },
  {
   "cell_type": "raw",
   "id": "477566ac-701c-4e8b-a69f-1a6f178946eb",
   "metadata": {},
   "source": [
    "1) Toll info\n",
    "    Stretch \n",
    "    Tollable Length\n",
    "    Fee Effective Date\n",
    "    Due date of toll revision\n",
    "2) Concessions\n",
    "3) Facilities available near Toll Plaza\n",
    "4) Announcement\n",
    "5) Important Information\n",
    "6) About toll construction\n",
    "7) Toll Fees for vehicles"
   ]
  },
  {
   "cell_type": "markdown",
   "id": "2afa2bdc-8da2-4c7f-ac5c-721084d7adda",
   "metadata": {},
   "source": [
    "# Construct all toll plaza urls"
   ]
  },
  {
   "cell_type": "markdown",
   "id": "acdd6886-18be-4b32-8bf4-3647fdf80cda",
   "metadata": {},
   "source": [
    "## 1) Toll info : Stretch,Tollable Length,Fee Effective Date,Due date of toll revision"
   ]
  },
  {
   "cell_type": "code",
   "execution_count": 12,
   "id": "0f918048-b129-452c-b535-38e552f228f2",
   "metadata": {},
   "outputs": [],
   "source": [
    "def get_toll_info(soup):\n",
    "    # logging.info(\"Getting toll information \")\n",
    "    p_tags = [p.get_text(\" \", strip=True) for p in soup.find_all(\"p\")]\n",
    "    data = {\"Stretch\": [], \"Tollable Length\": [], \"Fee Effective Date\": [], \"Due Date of Toll Revision\": []}\n",
    "    # Extract required details\n",
    "    for text in p_tags:\n",
    "        if \"Stretch :\" in text:\n",
    "            data[\"Stretch\"].append(text.split(\"Stretch :\")[1].split(\"Tollable Length :\")[0].strip())\n",
    "        if \"Tollable Length :\" in text:\n",
    "            data[\"Tollable Length\"].append(text.split(\"Tollable Length :\")[1].strip())\n",
    "        if \"Fee Effective Date :\" in text:\n",
    "            parts = text.split(\"/\")\n",
    "            data[\"Fee Effective Date\"].append(parts[0].split(\"Fee Effective Date :\")[1].strip())\n",
    "            data[\"Due Date of Toll Revision\"].append(parts[1].split(\"Due date of toll revision :\")[1].strip())\n",
    "    add_info_df = pd.DataFrame(data)\n",
    "    return add_info_df  "
   ]
  },
  {
   "cell_type": "markdown",
   "id": "e8d863f5-546f-41d4-82f0-00c2deb5445e",
   "metadata": {},
   "source": [
    "## 2) Concessions"
   ]
  },
  {
   "cell_type": "code",
   "execution_count": 13,
   "id": "c789e5c0-6f07-4150-9cee-220d7733fc9d",
   "metadata": {},
   "outputs": [],
   "source": [
    "def get_concession_table1(soup):\n",
    "    # logging.info(\"Getting Concessions table\")\n",
    "    concession_section = soup.find(\"h2\", string=\"Concessions\")\n",
    "    if concession_section:\n",
    "        concession_table = concession_section.find_next(\"span\")\n",
    "        # concession_data=concession_table.text\n",
    "        concession_data = {'Concessions':[concession_table.text]}\n",
    "    df_concession = pd.DataFrame(concession_data)\n",
    "    return df_concession"
   ]
  },
  {
   "cell_type": "code",
   "execution_count": 14,
   "id": "1bdd2e79-e979-43b8-8069-0f0f0cae5d19",
   "metadata": {},
   "outputs": [],
   "source": [
    "def get_concession_table(soup):\n",
    "    # logging.info(\"Getting Concessions table\")\n",
    "    concession_section = soup.find(\"h2\", string=\"Concessions\")\n",
    "    if concession_section:\n",
    "        try:\n",
    "            concession_table = concession_section.find_next(\"span\")\n",
    "            # concession_data=concession_table.text\n",
    "            concession_data = {'Concessions':[concession_table.text]}\n",
    "            df_concession = pd.DataFrame(concession_data)\n",
    "        except:\n",
    "            concessions = []\n",
    "            concession_list = concession_section.find_next(\"ul\").find_all(\"li\")\n",
    "            for item in concession_list:\n",
    "                concessions.append(item.text.strip())\n",
    "            concessions=\".\".join(concessions)\n",
    "            df_concession = pd.DataFrame([concessions], columns=[\"Concessions\"])\n",
    "    return df_concession"
   ]
  },
  {
   "cell_type": "markdown",
   "id": "8234f837-d475-454b-b8a6-3d0cc6d9572f",
   "metadata": {},
   "source": [
    "## 3) Facilities available near Toll Plaza"
   ]
  },
  {
   "cell_type": "code",
   "execution_count": 15,
   "id": "9873e289-889c-42c9-8bc2-d2a3175d026f",
   "metadata": {},
   "outputs": [],
   "source": [
    "def get_facilities_near_toll(soup):\n",
    "    # logging.info(\"Getting Facilities available near Toll Plaza\")\n",
    "    facilities_section = soup.find(\"h2\", string=\"Facilities available near Toll Plaza\")\n",
    "    facilities_data = []\n",
    "    if facilities_section:\n",
    "        facilities_table = facilities_section.find_next(\"div\").find_all(\"table\")\n",
    "        for table in facilities_table:\n",
    "            for row in table.find_all(\"tr\"):\n",
    "                cols = row.find_all(\"td\")\n",
    "                if len(cols) == 2:\n",
    "                    # key = cols[0].text.strip()\n",
    "                    key=cols[0].text.replace(\":\",\"\").strip()\n",
    "                    value = cols[1].text.strip()\n",
    "                    facilities_data.append((key, value))\n",
    "    df_facilities = pd.DataFrame(facilities_data, columns=[\"Facility\", \"Availability\"])\n",
    "    df_facilities=df_facilities.T\n",
    "    df_facilities.reset_index(drop=True, inplace=True)\n",
    "    df_facilities.columns = df_facilities.iloc[0] \n",
    "    df_facilities=df_facilities[1:].reset_index(drop=True)\n",
    "    return df_facilities"
   ]
  },
  {
   "cell_type": "markdown",
   "id": "43197b65-bcdd-4b41-81aa-7031ae3809ae",
   "metadata": {},
   "source": [
    "## 4) Announcement"
   ]
  },
  {
   "cell_type": "code",
   "execution_count": 16,
   "id": "d9076054-828f-4103-8d1c-ce8aaf633816",
   "metadata": {},
   "outputs": [],
   "source": [
    "def get_announcement_info(soup):\n",
    "    # logging.info(\"Getting Announcement info\")\n",
    "    announcement_section = soup.find(\"h2\", string=\"Announcement\")\n",
    "    announcements = []\n",
    "    if announcement_section:\n",
    "        announcement_list = announcement_section.find_next(\"ul\").find_all(\"li\")\n",
    "        for item in announcement_list:\n",
    "            announcements.append(item.text.strip())\n",
    "    df_announcements = pd.DataFrame(announcements, columns=[\"Announcement\"])\n",
    "    return df_announcements"
   ]
  },
  {
   "cell_type": "markdown",
   "id": "8d7de441-bcf6-4be9-ae98-aca12fa803d3",
   "metadata": {},
   "source": [
    "## 5) Important Information"
   ]
  },
  {
   "cell_type": "code",
   "execution_count": 17,
   "id": "e76b0bf0-fc09-46e2-bc1c-20349a2b7ca3",
   "metadata": {},
   "outputs": [],
   "source": [
    "def get_important_info(soup):\n",
    "    # logging.info(\"Getting Important Information table\")\n",
    "    important_info_section = soup.find(\"h2\", string=\"Important Information\")\n",
    "    important_info_data = []\n",
    "    if important_info_section:\n",
    "        info_table = important_info_section.find_next(\"table\")\n",
    "        for row in info_table.find_all(\"tr\"):\n",
    "            cols = row.find_all(\"td\")\n",
    "            if len(cols) == 2:\n",
    "                key=cols[0].text.replace(\":\",\"\").strip()\n",
    "                value = cols[1].text.strip()\n",
    "                important_info_data.append((key, value))\n",
    "    df_important_info = pd.DataFrame(important_info_data, columns=[\"Category\", \"Details\"])\n",
    "    df_important_info=df_important_info.T.reset_index(drop=True)\n",
    "    df_important_info.columns=df_important_info.iloc[0]\n",
    "    df_important_info=df_important_info.iloc[1:]\n",
    "    df_important_info.reset_index(drop=True,inplace=True)\n",
    "    return df_important_info"
   ]
  },
  {
   "cell_type": "markdown",
   "id": "ba40e503-f6e4-4abd-a24f-751507957895",
   "metadata": {},
   "source": [
    "## 6) About toll construction"
   ]
  },
  {
   "cell_type": "code",
   "execution_count": 18,
   "id": "7bd9013d-df01-422f-abd1-d335774e8d1d",
   "metadata": {},
   "outputs": [],
   "source": [
    "def get_toll_construction_info(table):\n",
    "    # logging.info(\"Getting Project Information table\")\n",
    "    project_data = []\n",
    "    for row in table.find_all(\"tr\"):\n",
    "        cols = row.find_all(\"td\")\n",
    "        if len(cols) == 2:\n",
    "            key = cols[0].text.strip()\n",
    "            value = cols[1].text.strip()\n",
    "            project_data.append((key, value))\n",
    "    df_project_info = pd.DataFrame(project_data, columns=[\"Parameter\", \"Value\"])\n",
    "    df_project_info=df_project_info.T.reset_index(drop=True)\n",
    "    df_project_info.columns=df_project_info.iloc[0]\n",
    "    df_project_info=df_project_info[1:].reset_index(drop=True)\n",
    "    return df_project_info"
   ]
  },
  {
   "cell_type": "markdown",
   "id": "33ed5c75-7c0f-493a-8848-eb0b94dd0462",
   "metadata": {},
   "source": [
    "## 7) Toll Fees for vehicles"
   ]
  },
  {
   "cell_type": "code",
   "execution_count": 19,
   "id": "919a90b9-5ce9-4f93-b729-f7119bc89dd1",
   "metadata": {},
   "outputs": [],
   "source": [
    "def get_toll_fees(tables):\n",
    "    # logging.info(\"Getting Toll Fees for Vehicles\")\n",
    "    toll_data = []\n",
    "    headers = [th.text.strip() for th in tables.find_all(\"th\")]\n",
    "    headers=headers[:5]\n",
    "    for row in tables.find_all(\"tr\")[1:]:  # Skip header row\n",
    "        cols = row.find_all([\"th\", \"td\"])\n",
    "        if len(cols) >0:\n",
    "            toll_data.append([col.text.strip() for col in cols])\n",
    "    df_toll_price = pd.DataFrame(toll_data, columns=headers)\n",
    "    \t\t\n",
    "    rows=list(df_toll_price.index)\n",
    "    cols=list(df_toll_price.columns)[1:]\n",
    "    column_names=[]\n",
    "    row_values=[]\n",
    "    for row_idx in rows:\n",
    "        for col_idx in cols:\n",
    "            col_name = f\"{df_toll_price.at[row_idx,'Type of vehicle']}_{col_idx}\"\n",
    "            column_names.append(col_name)\n",
    "            row_values.append(df_toll_price.at[row_idx,col_idx])\n",
    "    toll_price_df=pd.DataFrame([row_values],columns=column_names)\n",
    "    return toll_price_df"
   ]
  },
  {
   "cell_type": "markdown",
   "id": "ba4c5263-50b1-4cc8-935a-c10de4478479",
   "metadata": {},
   "source": [
    "# Get html page objects for the given toll plaza. e.g tables, textual information"
   ]
  },
  {
   "cell_type": "code",
   "execution_count": 20,
   "id": "2fd8c378-110b-4550-8d29-ca4597889393",
   "metadata": {},
   "outputs": [],
   "source": [
    "def get_html_page_objects(plaza_url):\n",
    "    try:\n",
    "        driver.get(plaza_url)\n",
    "        html_content=driver.find_element(By.CSS_SELECTOR,'div.PA15').get_attribute(\"outerHTML\")\n",
    "        # Parse the HTML using BeautifulSoup\n",
    "        soup = BeautifulSoup(html_content, \"html.parser\")\n",
    "        \n",
    "        add_info_df=get_toll_info(soup)\n",
    "        # display(add_info_df)\n",
    "        \n",
    "        df_concession=get_concession_table(soup)\n",
    "        # display(df_concession)\n",
    "        \n",
    "        df_facilities=get_facilities_near_toll(soup)\n",
    "        # display(df_facilities)\n",
    "        \n",
    "        df_announcements=get_announcement_info(soup)\n",
    "        # display(df_announcements)\n",
    "        \n",
    "        df_important_info=get_important_info(soup)\n",
    "        # display(df_important_info)\n",
    "        # Find all tables\n",
    "        tables = soup.find_all(\"table\", class_=\"tollinfotbl\")\n",
    "        df_project_info=get_toll_construction_info(tables[1])\n",
    "        # display(df_project_info)\n",
    "        \n",
    "        toll_price_df=get_toll_fees(tables[0])\n",
    "        # display(toll_price_df)\n",
    "        \n",
    "        frames = [add_info_df,df_concession,df_facilities,df_announcements,df_important_info,df_project_info,toll_price_df]\n",
    "        derived_df=pd.concat(frames, axis=1)\n",
    "        # print(derived_df.shape)\n",
    "        logging.debug(f\"Derived data frame shape = {derived_df.shape}\")\n",
    "    except Exception as e:\n",
    "        # print(type(e).__name__)\n",
    "        return pd.DataFrame()\n",
    "    return derived_df"
   ]
  },
  {
   "cell_type": "markdown",
   "id": "9357c772-4f18-48e1-9475-52db6af88841",
   "metadata": {},
   "source": [
    "# Main starts here"
   ]
  },
  {
   "cell_type": "code",
   "execution_count": 21,
   "id": "e56f29c5-0790-4603-af23-f025b761f829",
   "metadata": {},
   "outputs": [
    {
     "name": "stdout",
     "output_type": "stream",
     "text": [
      "Total number of toll plazas = 1051\n"
     ]
    }
   ],
   "source": [
    "print(f\"Total number of toll plazas = {toll_plazas_df.shape[0]}\")"
   ]
  },
  {
   "cell_type": "code",
   "execution_count": 22,
   "id": "9218ea3f-267a-4782-bf61-3ac50d4271aa",
   "metadata": {},
   "outputs": [],
   "source": [
    "# toll_plaza_urls[0:2]"
   ]
  },
  {
   "cell_type": "code",
   "execution_count": 23,
   "id": "66a13f7d-118c-4903-87a7-a9309352b8dc",
   "metadata": {},
   "outputs": [
    {
     "name": "stderr",
     "output_type": "stream",
     "text": [
      "2025-04-24 17:33:11 - INFO - SR.No|Toll Plaza Name|Toll Plaza ID|URL|Status\n"
     ]
    }
   ],
   "source": [
    "header_row =\"SR.No|Toll Plaza Name|Toll Plaza ID|URL|Status\"\n",
    "logging.info(header_row)\n",
    "with open(\"enriched_data_log.txt\", 'a') as file:\n",
    "    file.writelines(header_row.replace(\"|\",\",\")+\"\\n\")\n",
    "enriched_df = pd.DataFrame()\n",
    "for idx in range(0,toll_plazas_df.shape[0]): #toll_plazas_df.shape[0]\n",
    "    toll_plaza_name= toll_plazas_df['Toll Plaza Name'][idx]\n",
    "    toll_plaza_id=toll_plazas_df['TollPlazaID'][idx]\n",
    "    plaza_url = f\"{base_url}{toll_plaza_id}\"\n",
    "\n",
    "    df=get_html_page_objects(plaza_url)\n",
    "    if not df.empty:\n",
    "        df.insert(0,'toll_plaza_id',toll_plaza_id)\n",
    "        status = \"PASS\"\n",
    "    else:\n",
    "        df = pd.DataFrame(data = {'toll_plaza_id':[toll_plaza_id]})\n",
    "        status = \"FAIL\"\n",
    "    enriched_df=enriched_df._append(df,ignore_index=True)\n",
    "    log = f\"{idx},{toll_plaza_name},{toll_plaza_id},{plaza_url},{status}\"\n",
    "    # logging.info(log.replace(\",\",\"|\"))\n",
    "    with open(\"enriched_data_log.txt\", 'a') as file:\n",
    "        file.writelines(log+\"\\n\")"
   ]
  },
  {
   "cell_type": "code",
   "execution_count": 24,
   "id": "89c845e8-e53e-4a5f-aa1c-99e7b991b856",
   "metadata": {},
   "outputs": [
    {
     "data": {
      "text/plain": [
       "(1051, 58)"
      ]
     },
     "execution_count": 24,
     "metadata": {},
     "output_type": "execute_result"
    }
   ],
   "source": [
    "enriched_df.shape"
   ]
  },
  {
   "cell_type": "code",
   "execution_count": 25,
   "id": "8e74c644-ae30-450e-a619-e2e32f307494",
   "metadata": {},
   "outputs": [
    {
     "data": {
      "text/plain": [
       "(1051, 11)"
      ]
     },
     "execution_count": 25,
     "metadata": {},
     "output_type": "execute_result"
    }
   ],
   "source": [
    "toll_plazas_df.shape"
   ]
  },
  {
   "cell_type": "code",
   "execution_count": 26,
   "id": "02c14f3b-1657-4802-8643-f9dd713405f9",
   "metadata": {},
   "outputs": [],
   "source": [
    "merged_df=toll_plazas_df.merge(enriched_df,left_on='TollPlazaID',right_on='toll_plaza_id',how='left')"
   ]
  },
  {
   "cell_type": "code",
   "execution_count": 27,
   "id": "20731ac2-0854-42e1-ab67-fe0391c9efa2",
   "metadata": {},
   "outputs": [],
   "source": [
    "merged_df.drop_duplicates(subset=['Sr No.'],keep='first',inplace=True)"
   ]
  },
  {
   "cell_type": "code",
   "execution_count": 28,
   "id": "a960bef9-dd48-46e9-af0e-4a808e893541",
   "metadata": {},
   "outputs": [
    {
     "data": {
      "text/plain": [
       "(1051, 69)"
      ]
     },
     "execution_count": 28,
     "metadata": {},
     "output_type": "execute_result"
    }
   ],
   "source": [
    "merged_df.shape"
   ]
  },
  {
   "cell_type": "code",
   "execution_count": 29,
   "id": "800e7a3f-b9a4-41a3-a746-9ad5ce23f4e8",
   "metadata": {},
   "outputs": [],
   "source": [
    "import numpy as np"
   ]
  },
  {
   "cell_type": "code",
   "execution_count": 30,
   "id": "a0407e85-2a53-44fc-80ac-7cf4c6f67b13",
   "metadata": {},
   "outputs": [],
   "source": [
    "merged_df.replace(np.NaN,'NA',inplace=True)\n",
    "merged_df.replace('','NA',inplace=True)"
   ]
  },
  {
   "cell_type": "code",
   "execution_count": 31,
   "id": "e75cbb7f-b6a9-4df4-83c3-b1c95c11b251",
   "metadata": {},
   "outputs": [
    {
     "name": "stderr",
     "output_type": "stream",
     "text": [
      "2025-04-24 17:40:43 - INFO - The file already exist.Deleting toll_plaza_data.csv\n"
     ]
    }
   ],
   "source": [
    "import os\n",
    "if os.path.exists(FINAL_TOLL_FILE):\n",
    "    logging.info(f\"The file already exist.Deleting {FINAL_TOLL_FILE}\")\n",
    "    os.remove(FINAL_TOLL_FILE)\n",
    "else:\n",
    "    logging.info(f\"The file does not exist.Creating {FINAL_TOLL_FILE}\")"
   ]
  },
  {
   "cell_type": "markdown",
   "id": "bd1bd447-56f7-4d0a-af08-3383d7026537",
   "metadata": {},
   "source": [
    "## Rename the columns to suite the sql DB"
   ]
  },
  {
   "cell_type": "code",
   "execution_count": 33,
   "id": "f9e137b0-18f7-46d1-b88a-b072bbea5864",
   "metadata": {},
   "outputs": [],
   "source": [
    "new_columns=list(merged_df.columns)\n",
    "new_columns = [ col.lower() for col in new_columns]\n",
    "new_columns=[col.replace('/','_') for col in new_columns ]\n",
    "new_columns=[col.replace(' ','_') for col in new_columns ]\n",
    "new_columns=[col.replace('___','_') for col in new_columns ]\n",
    "new_columns=[col.replace('(','_') for col in new_columns]\n",
    "new_columns=[col.replace(')','_') for col in new_columns]\n",
    "new_columns=[col.replace('__','_') for col in new_columns]\n",
    "new_columns=[col.replace('-','_') for col in new_columns]\n",
    "new_columns=[col.replace('.','') for col in new_columns]\n",
    "new_columns=[col[:-1] if col.endswith('_') else col for col in new_columns ]"
   ]
  },
  {
   "cell_type": "code",
   "execution_count": 34,
   "id": "a170f48d-3bd1-4ec0-86d4-b6f2c3021389",
   "metadata": {},
   "outputs": [],
   "source": [
    "merged_df.columns=new_columns"
   ]
  },
  {
   "cell_type": "code",
   "execution_count": 35,
   "id": "801512f4-3d70-408c-9e78-81e4054bfcfb",
   "metadata": {},
   "outputs": [],
   "source": [
    "merged_df.to_csv(FINAL_TOLL_FILE,index=False) #'toll_plaza_data.csv'"
   ]
  },
  {
   "cell_type": "code",
   "execution_count": 36,
   "id": "41c0671f-7a32-4310-a932-3df0d023970e",
   "metadata": {},
   "outputs": [
    {
     "name": "stdout",
     "output_type": "stream",
     "text": [
      "Start Time = 25-04-24 17:33:08\n",
      "End Time = 25-04-24 17:42:33\n",
      "Total Execution time = 564.36 sec\n"
     ]
    }
   ],
   "source": [
    "end_time = datetime.datetime.now()\n",
    "time_taken = end_time - start_time\n",
    "format=\"%y-%m-%d %H:%M:%S\"\n",
    "print(f\"Start Time = {start_time.strftime(format)}\")\n",
    "print(f\"End Time = {end_time.strftime(format)}\")\n",
    "print(f\"Total Execution time = {round(time_taken.total_seconds(),2)} sec\")"
   ]
  },
  {
   "cell_type": "code",
   "execution_count": null,
   "id": "417311ec-9307-4ebc-b436-a8de3238a4fd",
   "metadata": {},
   "outputs": [],
   "source": []
  }
 ],
 "metadata": {
  "kernelspec": {
   "display_name": "Python 3 (ipykernel)",
   "language": "python",
   "name": "python3"
  },
  "language_info": {
   "codemirror_mode": {
    "name": "ipython",
    "version": 3
   },
   "file_extension": ".py",
   "mimetype": "text/x-python",
   "name": "python",
   "nbconvert_exporter": "python",
   "pygments_lexer": "ipython3",
   "version": "3.11.10"
  }
 },
 "nbformat": 4,
 "nbformat_minor": 5
}
